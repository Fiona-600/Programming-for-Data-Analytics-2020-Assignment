{
 "cells": [
  {
   "cell_type": "markdown",
   "metadata": {},
   "source": [
    "### Higher Diploma in Science - Data Analytics 2020/21\n",
    "\n",
    "### Programming for Data Analytics 2020 Assignment\n",
    "\n",
    "#### Submitted by Fiona Lee\n",
    "\n",
    "#### Due Date - 22 November 2020\n"
   ]
  },
  {
   "cell_type": "markdown",
   "metadata": {},
   "source": [
    "***"
   ]
  },
  {
   "cell_type": "markdown",
   "metadata": {},
   "source": [
    "### Assignment\n",
    "<BR>\n",
    "\n",
    "\n",
    "You are required to create a Jupyter notebook explaining the use of the numpy.random package, including detailed explanations of at least five of the distributions provided for in the package.\n",
    "\n",
    "There are four distinct tasks to be carried out in your Jupyter notebook:\n",
    "\n",
    "1.  Explain the overall purpose of the package.\n",
    "2.  Explain the use of the “Simple random data” and “Permutations” functions.\n",
    "3.  Explain the use and purpose of at least five “Distributions” functions.\n",
    "4.  Explain the use of seeds in generating pseudorandom numbers\n"
   ]
  },
  {
   "cell_type": "markdown",
   "metadata": {},
   "source": [
    "***"
   ]
  },
  {
   "cell_type": "markdown",
   "metadata": {},
   "source": [
    "### 1. Overall Purpose of numpy.random package\n",
    "<BR>"
   ]
  },
  {
   "cell_type": "markdown",
   "metadata": {},
   "source": [
    "NumPy is an open-source numerical Python library. NumPy contains a multi-dimensional array and matrix data structures. It can be utilised to perform a number of mathematical operations on arrays such as trigonometric, statistical, and algebraic routines.\n",
    "\n",
    "NumPy (short for Numerical Python) is “the fundamental package for scientific computing with Python” and it is the library Pandas, Matplotlib and Scikit-learn builds on top off.\n",
    "\n",
    "NumPy works with Python objects called multi-dimensional arrays. Arrays are basically collections of values, and they have one or more dimensions. NumPy array data structure is also called ndarray, short for n-dimensional array. An array with one dimension is called a vector and an array with two dimensions is called a matrix. Datasets are usually built as matrices and it is much easier to open those with NumPy instead of working with list of lists, for example.\n",
    "\n",
    "Pandas is an open-source library built on top of numpy providing high-performance, easy-to-use data structures and data analysis tools for the Python programming language. It allows for fast analysis and data cleaning and preparation.\n",
    "\n"
   ]
  },
  {
   "cell_type": "code",
   "execution_count": 7,
   "metadata": {},
   "outputs": [],
   "source": [
    "# import packages:\n",
    "\n",
    "import numpy as np\n",
    "import pandas as pd\n",
    "import matplotlib.pyplot as plt\n",
    "import seaborn as sns"
   ]
  },
  {
   "cell_type": "markdown",
   "metadata": {},
   "source": [
    "    ###Introduction\n",
    "    \n",
    "    NumPy is an open-source numerical Python library.\n",
    "    NumPy contains a multi-dimensional array and matrix data structures.\n",
    "    It can be utilised to perform a number of mathematical operations on arrays such as trigonometric,statistical, and algebraic routines. ...\n",
    "    NumPy is an extension of Numeric and Numarray."
   ]
  },
  {
   "cell_type": "code",
   "execution_count": 1,
   "metadata": {},
   "outputs": [],
   "source": [
    "# Turn a list to a NumPy array:\n",
    "\n",
    "numpy_array = np.array(list)"
   ]
  },
  {
   "cell_type": "code",
   "execution_count": 2,
   "metadata": {},
   "outputs": [],
   "source": []
  },
  {
   "cell_type": "code",
   "execution_count": null,
   "metadata": {},
   "outputs": [],
   "source": []
  },
  {
   "cell_type": "markdown",
   "metadata": {},
   "source": [
    "***"
   ]
  },
  {
   "cell_type": "markdown",
   "metadata": {},
   "source": [
    "### 2a.  Simple Random Data Function\n",
    "<BR>"
   ]
  },
  {
   "cell_type": "markdown",
   "metadata": {},
   "source": [
    "Another cool feature is the ability to create different arrays like random arrays: np.random.rand(3,4) will create a 3x4 array of random numbers between 0 and 1 while np.random.rand(7,6)*100 will create a 7x6 array of random numbers between 0 to 100; you can also define the size of the array in a different way: np.random.randint(10,size=(3,2)) creates an array the size of 3x2 with random numbers between 0 and 9. Remember that the last digit (10) is not included in the range when you use this syntax.\n",
    "\n",
    "It’s also possible to create an array of all zeros: np.zeros(4,3) (4x3 array of all zeros) or ones np.ones((4)) (4x1 array of ones); you can the command np.full((3,2),8) to create a 3x2 array full of 8. You can, of course, change each and every one of these numbers to get the array you want."
   ]
  },
  {
   "cell_type": "markdown",
   "metadata": {},
   "source": [
    "#rand(d0, d1, …, dn)                       Random values in a given shape.\n",
    "#randn(d0, d1, …, dn) \t                   Return a sample (or samples) from the “standard normal” distribution.\n",
    "#randint(low[, high, size, dtype]) \t       Return random integers from low (inclusive) to high (exclusive).\n",
    "#random_integers(low[, high, size]) \t   Random integers of type np.int between low and high, inclusive.\n",
    "#random_sample([size]) \t                   Return random floats in the half-open interval [0.0, 1.0).\n",
    "#random([size]) \t                       Return random floats in the half-open interval [0.0, 1.0).\n",
    "#ranf([size]) \t                           Return random floats in the half-open interval [0.0, 1.0).\n",
    "#sample([size]) \t                       Return random floats in the half-open interval [0.0, 1.0).\n",
    "#choice(a[, size, replace, p]) \t           Generates a random sample from a given 1-D array\n",
    "#bytes(length) \t                           Return random bytes."
   ]
  },
  {
   "cell_type": "markdown",
   "metadata": {},
   "source": [
    "***"
   ]
  },
  {
   "cell_type": "markdown",
   "metadata": {},
   "source": [
    "### 2b.  Permutations Function\n",
    "<BR>"
   ]
  },
  {
   "cell_type": "markdown",
   "metadata": {},
   "source": [
    "##### shuffle(x) \t                 Modify a sequence in-place by shuffling its contents.\n",
    "##### permutation(x) \t             Randomly permute a sequence, or return a permuted range."
   ]
  },
  {
   "cell_type": "markdown",
   "metadata": {},
   "source": [
    "***"
   ]
  },
  {
   "cell_type": "markdown",
   "metadata": {},
   "source": [
    "### 3. Use and Purpose of 5 Distribution Functions\n",
    "<BR>"
   ]
  },
  {
   "cell_type": "markdown",
   "metadata": {},
   "source": [
    "### 1. np.random.uniform"
   ]
  },
  {
   "cell_type": "markdown",
   "metadata": {},
   "source": [
    "#### What is np.random.uniform?\n",
    "\n",
    "np.random.uniform () generates random floating number(s) i.e.a number(s) with decimals between a lower and upper value which can either be specified or set to a default to a value of (0,1).  \n",
    "\n",
    "The size of your output i.e. the number of random numbers returned can be set using np.random.uniform (low, high, size = ?). This is also optional and the default is np.random.uniform (low, high, size = None).\n",
    "\n",
    "round(np.random.uniform) generates a random integer rather than a floating number\n",
    "\n",
    "np.random.uniform () uses uniform disribution which is a type of probability distribution in which all outcomes are equally likely to be chosen.\n",
    "\n",
    "#### When can it be used?\n",
    "\n",
    "When you need random numbers between 0 and 1 or for a specified lower and upper boundaries for the output interval. You can also choose the size of your output. This is also optional and the default is size=None which returns a single value."
   ]
  },
  {
   "cell_type": "markdown",
   "metadata": {},
   "source": [
    "#### Examples: "
   ]
  },
  {
   "cell_type": "code",
   "execution_count": 15,
   "metadata": {},
   "outputs": [
    {
     "data": {
      "text/plain": [
       "0.7980716729728831"
      ]
     },
     "execution_count": 15,
     "metadata": {},
     "output_type": "execute_result"
    }
   ],
   "source": [
    "# Uniformly generate a random number using the default values i.e. low = 0 and high = 1\n",
    "\n",
    "np.random.uniform ()"
   ]
  },
  {
   "cell_type": "code",
   "execution_count": 18,
   "metadata": {},
   "outputs": [
    {
     "data": {
      "text/plain": [
       "0.7550953230252624"
      ]
     },
     "execution_count": 18,
     "metadata": {},
     "output_type": "execute_result"
    }
   ],
   "source": [
    "# Uniformly generate a single random floating numbers between 0 and 1 (default values)\n",
    "\n",
    "np.random.uniform(0,1,size = None)"
   ]
  },
  {
   "cell_type": "code",
   "execution_count": 11,
   "metadata": {},
   "outputs": [
    {
     "data": {
      "text/plain": [
       "0.3564362488895628"
      ]
     },
     "execution_count": 11,
     "metadata": {},
     "output_type": "execute_result"
    }
   ],
   "source": [
    "# Uniformly generate a random number with decimals between 0 and 1\n",
    "\n",
    "np.random.uniform(0,1)"
   ]
  },
  {
   "cell_type": "code",
   "execution_count": 25,
   "metadata": {},
   "outputs": [
    {
     "data": {
      "text/plain": [
       "25"
      ]
     },
     "execution_count": 25,
     "metadata": {},
     "output_type": "execute_result"
    }
   ],
   "source": [
    "# Uniformly generate a random number between 0 and 100 and round to the nearest integer\n",
    "\n",
    "round(np.random.uniform(0,100)*1) "
   ]
  },
  {
   "cell_type": "code",
   "execution_count": 30,
   "metadata": {},
   "outputs": [
    {
     "data": {
      "text/plain": [
       "array([0.1876068 , 0.85880748, 0.56396723, 0.3667455 , 0.2939968 ,\n",
       "       0.12982053, 0.55725959, 0.81424322, 0.87676398, 0.89036638])"
      ]
     },
     "execution_count": 30,
     "metadata": {},
     "output_type": "execute_result"
    }
   ],
   "source": [
    "# Uniformly generate 10 random floating numbers between 0 and 1\n",
    "\n",
    "np.random.uniform (0,1,size = 10)"
   ]
  },
  {
   "cell_type": "markdown",
   "metadata": {},
   "source": [
    "### 2. np.random.normal"
   ]
  },
  {
   "cell_type": "code",
   "execution_count": null,
   "metadata": {},
   "outputs": [],
   "source": []
  },
  {
   "cell_type": "code",
   "execution_count": null,
   "metadata": {},
   "outputs": [],
   "source": []
  },
  {
   "cell_type": "code",
   "execution_count": null,
   "metadata": {},
   "outputs": [],
   "source": []
  },
  {
   "cell_type": "markdown",
   "metadata": {},
   "source": [
    "### 3. np.random.normal"
   ]
  },
  {
   "cell_type": "code",
   "execution_count": null,
   "metadata": {},
   "outputs": [],
   "source": []
  },
  {
   "cell_type": "code",
   "execution_count": null,
   "metadata": {},
   "outputs": [],
   "source": []
  },
  {
   "cell_type": "code",
   "execution_count": null,
   "metadata": {},
   "outputs": [],
   "source": []
  },
  {
   "cell_type": "markdown",
   "metadata": {},
   "source": [
    "### 4. np.random.normal"
   ]
  },
  {
   "cell_type": "code",
   "execution_count": null,
   "metadata": {},
   "outputs": [],
   "source": []
  },
  {
   "cell_type": "code",
   "execution_count": null,
   "metadata": {},
   "outputs": [],
   "source": []
  },
  {
   "cell_type": "code",
   "execution_count": null,
   "metadata": {},
   "outputs": [],
   "source": []
  },
  {
   "cell_type": "markdown",
   "metadata": {},
   "source": [
    "### 5. np.random.binomial"
   ]
  },
  {
   "cell_type": "code",
   "execution_count": null,
   "metadata": {},
   "outputs": [],
   "source": []
  },
  {
   "cell_type": "code",
   "execution_count": null,
   "metadata": {},
   "outputs": [],
   "source": []
  },
  {
   "cell_type": "code",
   "execution_count": null,
   "metadata": {},
   "outputs": [],
   "source": []
  },
  {
   "cell_type": "markdown",
   "metadata": {},
   "source": [
    "***"
   ]
  },
  {
   "cell_type": "markdown",
   "metadata": {},
   "source": [
    "### 4. Use of Seeds in generating pseudorandom numbers\n",
    "<BR>"
   ]
  },
  {
   "cell_type": "code",
   "execution_count": null,
   "metadata": {},
   "outputs": [],
   "source": []
  },
  {
   "cell_type": "markdown",
   "metadata": {},
   "source": [
    "***"
   ]
  },
  {
   "cell_type": "markdown",
   "metadata": {},
   "source": [
    "### References\n",
    "<BR>"
   ]
  },
  {
   "cell_type": "markdown",
   "metadata": {},
   "source": [
    "#### https://towardsdatascience.com/a-quick-introduction-to-the-numpy-library-6f61b7dee4db\n",
    "#### https://yhpf.medium.com/numpy-random-uniform-9a51183ce8c1\n"
   ]
  },
  {
   "cell_type": "markdown",
   "metadata": {},
   "source": [
    "### End"
   ]
  }
 ],
 "metadata": {
  "kernelspec": {
   "display_name": "Python 3",
   "language": "python",
   "name": "python3"
  },
  "language_info": {
   "codemirror_mode": {
    "name": "ipython",
    "version": 3
   },
   "file_extension": ".py",
   "mimetype": "text/x-python",
   "name": "python",
   "nbconvert_exporter": "python",
   "pygments_lexer": "ipython3",
   "version": "3.8.3"
  }
 },
 "nbformat": 4,
 "nbformat_minor": 4
}
