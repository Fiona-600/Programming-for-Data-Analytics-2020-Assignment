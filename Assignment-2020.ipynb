{
 "cells": [
  {
   "cell_type": "markdown",
   "metadata": {},
   "source": [
    "### Higher Diploma in Science - Data Analytics 2020/21\n",
    "\n",
    "### Programming for Data Analytics 2020 Assignment\n",
    "\n",
    "#### Submitted by Fiona Lee\n",
    "\n",
    "#### Due Date - 22 November 2020\n"
   ]
  },
  {
   "cell_type": "markdown",
   "metadata": {},
   "source": [
    "***"
   ]
  },
  {
   "cell_type": "markdown",
   "metadata": {},
   "source": [
    "### Assignment\n",
    "<BR>\n",
    "\n",
    "\n",
    "You are required to create a Jupyter notebook explaining the use of the numpy.random package, including detailed explanations of at least five of the distributions provided for in the package.\n",
    "\n",
    "There are four distinct tasks to be carried out in your Jupyter notebook:\n",
    "\n",
    "1.  Explain the overall purpose of the package.\n",
    "2.  Explain the use of the “Simple random data” and “Permutations” functions.\n",
    "3.  Explain the use and purpose of at least five “Distributions” functions.\n",
    "4.  Explain the use of seeds in generating pseudorandom numbers\n"
   ]
  },
  {
   "cell_type": "markdown",
   "metadata": {},
   "source": [
    "***"
   ]
  },
  {
   "cell_type": "code",
   "execution_count": 1,
   "metadata": {},
   "outputs": [],
   "source": [
    "# import modules:\n",
    "\n",
    "import numpy as np\n",
    "import pandas as pd\n",
    "import matplotlib.pyplot as plt\n",
    "import seaborn as sns\n",
    "import random\n",
    "from numpy import random\n",
    "from itertools import permutations\n",
    "from random import shuffle"
   ]
  },
  {
   "cell_type": "markdown",
   "metadata": {},
   "source": [
    "***"
   ]
  },
  {
   "cell_type": "markdown",
   "metadata": {},
   "source": [
    "### 1. Overall Purpose of numpy.random package\n",
    "<BR>\n"
   ]
  },
  {
   "cell_type": "markdown",
   "metadata": {},
   "source": [
    "NumPy (short for Numerical Python) is an open-source numerical Python library.  It is a module for the Python programming language that is used for data science and scientific computing and it is the library Pandas, Matplotlib and Scikit-learn builds on top off.\n",
    "\n",
    "Put simply, NumPy is a package for performing data manipulation on numerical data in Python. It enables you to collect numeric data into a data structure, called a NumPy array and to perform various computations and manipulations such as trigonometric, statistical, and algebraic routines.\n",
    "\n",
    "The following are the list of common numpy.random operations:\n",
    "\n",
    "- Generate random numbers for various distributions including integer and floats.\n",
    "- Random Sampling and choose elements from the population.\n",
    "- Functions of the random module.\n",
    "- Shuffle the sequence data. Seed the random generator.\n",
    "- Generate random strings and passwords.\n",
    "- Cryptographically secure random generator using a secrets module. Generate secure tokens, security keys, and URL\n",
    "- How to set the state of a random generator.\n",
    "- Use NumPy’s random to generate random arrays.\n",
    "- Use the UUID module to generate unique IDs"
   ]
  },
  {
   "cell_type": "markdown",
   "metadata": {},
   "source": [
    "### NumPy Arrays:"
   ]
  },
  {
   "cell_type": "markdown",
   "metadata": {},
   "source": [
    "\n",
    "#### NumPy multi-dimensional arrays and matrix data structures:\n",
    "\n",
    "- NumPy works with Python objects called multi-dimensional arrays.  Arrays are collections of values with one or more dimensions. \n",
    "- The NumPy array data structure is also called ndarray, short for n-dimensional array. \n",
    "- An array with a single dimension is called a vector\n",
    "- An array with multi dimensions is called a matrix. "
   ]
  },
  {
   "cell_type": "code",
   "execution_count": 2,
   "metadata": {},
   "outputs": [],
   "source": [
    "# Turn a list to a NumPy array:\n",
    "numpy_array = np.array(list)"
   ]
  },
  {
   "cell_type": "markdown",
   "metadata": {},
   "source": [
    "### Single Dimensional Numpy Array (Vector)"
   ]
  },
  {
   "cell_type": "code",
   "execution_count": 3,
   "metadata": {},
   "outputs": [
    {
     "name": "stdout",
     "output_type": "stream",
     "text": [
      "[1 2 3 4 5 6]\n"
     ]
    }
   ],
   "source": [
    "a = np.array([1,2,3,4,5, 6])\n",
    "print(a)"
   ]
  },
  {
   "cell_type": "markdown",
   "metadata": {},
   "source": [
    "### Multi Dimentional Numpy Array (Matrix)"
   ]
  },
  {
   "cell_type": "code",
   "execution_count": 4,
   "metadata": {},
   "outputs": [
    {
     "name": "stdout",
     "output_type": "stream",
     "text": [
      "[[1 2 3]\n",
      " [4 5 6]]\n"
     ]
    }
   ],
   "source": [
    "a = np.array([(1,2,3),(4,5,6)])\n",
    "print(a)"
   ]
  },
  {
   "cell_type": "markdown",
   "metadata": {},
   "source": [
    "***"
   ]
  },
  {
   "cell_type": "markdown",
   "metadata": {},
   "source": [
    "### 2a.  Simple Random Data Functions"
   ]
  },
  {
   "cell_type": "markdown",
   "metadata": {},
   "source": [
    "The simple random data function is an inbuilt tool in Python which allows the user to randomly generate a selection from such samples.\n",
    "\n",
    "A simple random sample takes a small, random portion of the entire population to represent the entire data set, where each member has an equal probability of being chosen (Investopedia).  "
   ]
  },
  {
   "cell_type": "markdown",
   "metadata": {},
   "source": [
    "### Types of simple random data functions: "
   ]
  },
  {
   "cell_type": "markdown",
   "metadata": {},
   "source": [
    "### Method 1 - random.sample ()\n",
    "\n",
    "Generate a user specified number of random selections from a list, tuple, string or set  "
   ]
  },
  {
   "cell_type": "code",
   "execution_count": 5,
   "metadata": {},
   "outputs": [
    {
     "name": "stdout",
     "output_type": "stream",
     "text": [
      "\n"
     ]
    },
    {
     "ename": "TypeError",
     "evalue": "random_sample() takes at most 1 positional argument (2 given)",
     "output_type": "error",
     "traceback": [
      "\u001b[1;31m---------------------------------------------------------------------------\u001b[0m",
      "\u001b[1;31mTypeError\u001b[0m                                 Traceback (most recent call last)",
      "\u001b[1;32m<ipython-input-5-453db16a0b11>\u001b[0m in \u001b[0;36m<module>\u001b[1;34m\u001b[0m\n\u001b[0;32m      1\u001b[0m \u001b[0mprint\u001b[0m\u001b[1;33m(\u001b[0m\u001b[1;34m\"\"\u001b[0m\u001b[1;33m)\u001b[0m\u001b[1;33m\u001b[0m\u001b[1;33m\u001b[0m\u001b[0m\n\u001b[0;32m      2\u001b[0m \u001b[0mList\u001b[0m \u001b[1;33m=\u001b[0m \u001b[1;33m[\u001b[0m\u001b[1;36m1\u001b[0m\u001b[1;33m,\u001b[0m \u001b[1;36m2\u001b[0m\u001b[1;33m,\u001b[0m \u001b[1;36m3\u001b[0m\u001b[1;33m,\u001b[0m \u001b[1;36m4\u001b[0m\u001b[1;33m,\u001b[0m \u001b[1;36m5\u001b[0m\u001b[1;33m,\u001b[0m \u001b[1;36m6\u001b[0m\u001b[1;33m]\u001b[0m\u001b[1;33m\u001b[0m\u001b[1;33m\u001b[0m\u001b[0m\n\u001b[1;32m----> 3\u001b[1;33m \u001b[0mprint\u001b[0m\u001b[1;33m(\u001b[0m\u001b[1;34m\"Pick 2 random selections from a LIST:\"\u001b[0m\u001b[1;33m,\u001b[0m \u001b[1;34m\"Your choice is ..\"\u001b[0m\u001b[1;33m,\u001b[0m\u001b[0mrandom\u001b[0m\u001b[1;33m.\u001b[0m\u001b[0msample\u001b[0m\u001b[1;33m(\u001b[0m\u001b[0mList\u001b[0m\u001b[1;33m,\u001b[0m\u001b[1;36m2\u001b[0m\u001b[1;33m)\u001b[0m\u001b[1;33m)\u001b[0m \u001b[1;31m#Print 2 random selections from a given list.\u001b[0m\u001b[1;33m\u001b[0m\u001b[1;33m\u001b[0m\u001b[0m\n\u001b[0m\u001b[0;32m      4\u001b[0m \u001b[0mprint\u001b[0m\u001b[1;33m(\u001b[0m\u001b[1;34m\"\"\u001b[0m\u001b[1;33m)\u001b[0m\u001b[1;33m\u001b[0m\u001b[1;33m\u001b[0m\u001b[0m\n\u001b[0;32m      5\u001b[0m \u001b[0mString\u001b[0m \u001b[1;33m=\u001b[0m \u001b[1;34m\"Random\"\u001b[0m\u001b[1;33m\u001b[0m\u001b[1;33m\u001b[0m\u001b[0m\n",
      "\u001b[1;32mmtrand.pyx\u001b[0m in \u001b[0;36mnumpy.random.mtrand.sample\u001b[1;34m()\u001b[0m\n",
      "\u001b[1;32mmtrand.pyx\u001b[0m in \u001b[0;36mnumpy.random.mtrand.RandomState.random_sample\u001b[1;34m()\u001b[0m\n",
      "\u001b[1;31mTypeError\u001b[0m: random_sample() takes at most 1 positional argument (2 given)"
     ]
    }
   ],
   "source": [
    "print(\"\")\n",
    "List = [1, 2, 3, 4, 5, 6]\n",
    "print(\"Pick 2 random selections from a LIST:\", \"Your choice is ..\",random.sample(List,2)) #Print 2 random selections from a given list. \n",
    "print(\"\")\n",
    "String = \"Random\"\n",
    "print(\"Pick 4 random selections from a STRING:\",\"Your choice is ..\", random.sample(String, 4)) #Print 4 random selections from a given string. \n",
    "print(\"\")\n",
    "Tuple = (\"Python\" , \"Java\" , \"unix\" , \"Bash\", \"C++\") #Print 3 random selections from a given tuple.\n",
    "print(\"Pick 3 random selections from a TUPLE.:\", \"Your choice is ..\",random.sample(Tuple, 3)) \n",
    "print(\"\")   \n",
    "Set = {\"a\", \"b\", \"c\", \"d\", \"e\"} # Print 3 random selections from a given set.\n",
    "print(\"Pick 3 random selections from a SET:\", \"Your choice is ..\",random.sample(Set, 3))\n",
    "print(\"\")\n"
   ]
  },
  {
   "cell_type": "markdown",
   "metadata": {},
   "source": [
    "### Method 2 - random.randint ()\n",
    "\n",
    "Generate a random number between an upper and lower boundary\n"
   ]
  },
  {
   "cell_type": "code",
   "execution_count": null,
   "metadata": {},
   "outputs": [],
   "source": [
    "a = 1\n",
    "b = 10\n",
    "Input = np.random.randint(a, b) #Generate a random integer between 1 and 10\n",
    "print(\"\")\n",
    "print(\"Pick a number between\",(a),\"and\",b,\": Your choice is ..\",Input)\n",
    "print(\"\")"
   ]
  },
  {
   "cell_type": "markdown",
   "metadata": {},
   "source": [
    "### Method 3 - random.choice ()"
   ]
  },
  {
   "cell_type": "markdown",
   "metadata": {},
   "source": [
    "Generate a random sample from a single dimensional array"
   ]
  },
  {
   "cell_type": "code",
   "execution_count": null,
   "metadata": {},
   "outputs": [],
   "source": [
    "Input = ['a', 'b', 'c', 'd', 'e','f','g','h','i','j','k','l','m','n','o','p','q','r','s','t','u','v','w','x','y','z']\n",
    "print(\"\")\n",
    "print(\"Pick a letter at random:\",\"Your choice is ..\", random.choice(Input [6])) # Print generated random sample\n",
    "print(\"\")\n"
   ]
  },
  {
   "cell_type": "markdown",
   "metadata": {},
   "source": [
    "### Method 4 - random.bytes ()"
   ]
  },
  {
   "cell_type": "markdown",
   "metadata": {},
   "source": [
    "Generate a specified number of randomly selected characters"
   ]
  },
  {
   "cell_type": "code",
   "execution_count": null,
   "metadata": {},
   "outputs": [],
   "source": [
    "print (\"\")\n",
    "a = 5\n",
    "print(\"Pick\" ,a,\"random characters ...\" , np.random.bytes (a)) #Print specified numbers of randomly selected characters\n"
   ]
  },
  {
   "cell_type": "markdown",
   "metadata": {},
   "source": [
    "***"
   ]
  },
  {
   "cell_type": "markdown",
   "metadata": {},
   "source": [
    "### 2b.  Permutations Function\n"
   ]
  },
  {
   "cell_type": "markdown",
   "metadata": {},
   "source": [
    "### What is permutation?\n",
    "\n",
    "A permutation of a set is an arrangement of its elements into a sequence or linear order, or if the set is already ordered, a rearrangement of its elements. \n",
    "\n",
    "The word \"permutation\" also refers to the act or process of changing the linear order of an ordered set.  (Wikopedia)\n",
    "\n",
    "#### Permutations Methods:\n",
    "\n",
    "    Method 1 - permutation(x [, axis])  Randomly permute a sequence, or return a permuted range.\n",
    "\tMethod 2 - shuffle(x [, axis])      Modify a sequence in-place by shuffling its contents.\n"
   ]
  },
  {
   "cell_type": "markdown",
   "metadata": {},
   "source": [
    "### Method 1 - Permutation () - Show every possible permutation of a given input\n",
    "### Example: "
   ]
  },
  {
   "cell_type": "code",
   "execution_count": null,
   "metadata": {
    "scrolled": true
   },
   "outputs": [],
   "source": [
    "input = ['one', 'two', 'three']\n",
    "p = permutations (input) #Show every possible permutation of one, two and three\n",
    "\n",
    "print(\"\") \n",
    "print (\"All possible permutations of\", input,\":\")\n",
    "print(\"\")\n",
    "# Print the permutations \n",
    "for i in p: \n",
    "        print(i)\n",
    "print (\"\")"
   ]
  },
  {
   "cell_type": "code",
   "execution_count": null,
   "metadata": {},
   "outputs": [],
   "source": [
    "#Test to make sure that each element is balanced in the results\n",
    "count, bins, ignored = plt.hist(input, 14, density = True) \n",
    "plt.show()"
   ]
  },
  {
   "cell_type": "markdown",
   "metadata": {},
   "source": [
    "### Method 2 - Shuffle () - Take the original list, string or tuple input and shuffle the order of those elements"
   ]
  },
  {
   "cell_type": "markdown",
   "metadata": {},
   "source": [
    "#### random.shuffle (sequence, function)"
   ]
  },
  {
   "cell_type": "code",
   "execution_count": null,
   "metadata": {},
   "outputs": [],
   "source": [
    "input = ['one', 'two', 'three']\n",
    "\n",
    "p = np.random.shuffle(input) # Shuffle and print the outcome\n",
    "print(\"\")\n",
    "print (\"New Shuffled Sequence : \", input)\n",
    "print (\"\")\n"
   ]
  },
  {
   "cell_type": "markdown",
   "metadata": {},
   "source": [
    "***"
   ]
  },
  {
   "cell_type": "markdown",
   "metadata": {},
   "source": [
    "### 3. Use and Purpose of 5 Distribution Functions\n"
   ]
  },
  {
   "cell_type": "markdown",
   "metadata": {},
   "source": [
    "### 3a. numpy.random.uniform ()"
   ]
  },
  {
   "cell_type": "markdown",
   "metadata": {},
   "source": [
    "\n",
    "### What is numpy.random.uniform?\n",
    "\n",
    "#### numpy.random.uniform (low, high, size=None)\n",
    "\n",
    "Returns a random float number between two given parameters\n",
    "\n",
    "np.random.uniform () generates random floating number(s) i.e.decimal number(s) between a lower and upper value which can either be specified or set to a default to a value of (0,1).  In this type of probability distribution all outcomes are equally likely to be chosen.\n",
    "\n",
    "The size of your output i.e. the number of random numbers returned can be set using np.random.uniform (low, high, size = ?). This is optional, the default is np.random.uniform (low, high, size = None).\n",
    "\n",
    "It is possible to round the result to the nearest integer using round(np.random.uniform) generates a random integer rather than a floating number."
   ]
  },
  {
   "cell_type": "markdown",
   "metadata": {},
   "source": [
    "#### Parameter Description:\n",
    "\n",
    "low = A number specifying the lowest possible outcome. Default 0\n",
    "\n",
    "high = A number specifying the highest possible outcome. Default 1\n",
    "\n",
    "size = Number of of samples\n"
   ]
  },
  {
   "cell_type": "code",
   "execution_count": null,
   "metadata": {},
   "outputs": [],
   "source": []
  },
  {
   "cell_type": "markdown",
   "metadata": {},
   "source": [
    "### When can numpy.random.uniform​ be used?\n",
    "\n",
    "When you need random numbers in a specified or default range.  The output can be set to select between 0 and 1 (default) or between two specified lower and upper boundaries. The output can either be diplayed as a decimal or as a round number."
   ]
  },
  {
   "cell_type": "markdown",
   "metadata": {},
   "source": [
    "### Examples: "
   ]
  },
  {
   "cell_type": "code",
   "execution_count": null,
   "metadata": {},
   "outputs": [],
   "source": [
    "# Uniformly generate a random number using the default values i.e. low = 0 and high = 1\n",
    "\n",
    "np.random.uniform ()"
   ]
  },
  {
   "cell_type": "code",
   "execution_count": null,
   "metadata": {},
   "outputs": [],
   "source": [
    "# Uniformly generate a single random floating numbers between 0 and 1 (default values)\n",
    "\n",
    "print (\"\")\n",
    "print (\"Generate a single random number between 0 and 1:\",np.random.uniform(0,1,size = None))\n",
    "print (\"\")\n"
   ]
  },
  {
   "cell_type": "code",
   "execution_count": null,
   "metadata": {},
   "outputs": [],
   "source": [
    "# Uniformly generate a random number between 0 and 100 and round to the nearest integer\n",
    "\n",
    "print (\"\")\n",
    "print (round(np.random.uniform(0,100)*1))\n",
    "print (\"\")"
   ]
  },
  {
   "cell_type": "code",
   "execution_count": null,
   "metadata": {},
   "outputs": [],
   "source": [
    "# Uniformly generate 40 random numbers with decimals between 10 and 20 in a completely random fashion\n",
    "\n",
    "a = 10\n",
    "b = 20\n",
    "size = 40\n",
    "print (\"\")\n",
    "r = np.random.uniform(a, b ,size)\n",
    "print (\"\")\n",
    "print (\"Generate\",size, \"random numbers between\",a, \"and\",b,\":\\n\\n\",r)\n",
    "print (\"\")\n",
    "plt.hist(r)\n",
    "plt.show ()\n",
    "print (\"\")"
   ]
  },
  {
   "cell_type": "markdown",
   "metadata": {},
   "source": [
    "#### Note:\n",
    "The sample size above of 40 is not big enough to show a uniform distribution curve.  See below for extension of the sample to 50,000"
   ]
  },
  {
   "cell_type": "code",
   "execution_count": null,
   "metadata": {
    "scrolled": false
   },
   "outputs": [],
   "source": [
    "#Test that the Generator will uniformly select all the numbers between 1 and 10 equally over a sample size of 50,000\n",
    "\n",
    "print(\"\")\n",
    "u = np.random.uniform(1,10,size = 50000) #Generate a number between 1 and 10 and repeat 50,000 times\n",
    "plt.title (\"Frequency of Samples generated \\n\") # Label The Histogram\n",
    "plt.xlabel (\"\\n Number Generated between 1 and 10\") # Label x axis \n",
    "plt.ylabel (\"Frequency \\n\") # Label y axis\n",
    "plt.hist(u, bins = 10)\n",
    "plt.show ()\n",
    "print (\"\")"
   ]
  },
  {
   "cell_type": "markdown",
   "metadata": {},
   "source": [
    "### Plotting the Results:"
   ]
  },
  {
   "cell_type": "code",
   "execution_count": null,
   "metadata": {},
   "outputs": [],
   "source": [
    "# Seaborn plot to plot the frequency of samples\n",
    "plt.title(\"Frequency of Samples generated \\n\")\n",
    "sns.distplot(u , bins = (10))\n",
    "plt.ylabel(\"Frequency \\n\") # Label y axis\n",
    "plt.xlabel(\"\\n Numbers selected between 1 and 10 \\n\") # Label x axis\n",
    "plt.show()"
   ]
  },
  {
   "cell_type": "markdown",
   "metadata": {},
   "source": [
    "***"
   ]
  },
  {
   "cell_type": "markdown",
   "metadata": {},
   "source": [
    "### 3b. numpy.random.chisquare ()"
   ]
  },
  {
   "cell_type": "markdown",
   "metadata": {},
   "source": [
    "### What is numpy.random.chisquare?"
   ]
  },
  {
   "cell_type": "markdown",
   "metadata": {},
   "source": [
    "#### numpy.random.chisquare(df, size=None)\n",
    "\n",
    "When 'df' independent random variables, each with standard normal distributions (mean 0, variance 1), are squared and summed, the resulting distribution is chi-square. \n",
    "\n",
    "The Chi Square distribution is the distribution of the sum of squared standard normal deviates. The degrees of freedom of the distribution is equal to the number of standard normal deviates being summed.  \n",
    "\n",
    "The mean of a Chi Square distribution is its degrees of freedom."
   ]
  },
  {
   "cell_type": "markdown",
   "metadata": {},
   "source": [
    "#### Parameters:\n",
    "\n",
    "df   =  Number of degrees of freedom (Integer > 0)\n",
    "\n",
    "size =  Defines the output shape i.e. number of samples drawn. (Integer or tuple)\n",
    "Size is an optional parameter.  Default = None if not defined, returns a single value\n"
   ]
  },
  {
   "cell_type": "markdown",
   "metadata": {},
   "source": [
    "### When can numpy.random.chisquare be used?"
   ]
  },
  {
   "cell_type": "markdown",
   "metadata": {},
   "source": [
    "The chi-square statistical test is used to determine whether there’s a significant difference between an expected distribution and an actual distribution. It’s typically used in hypothesis testing with categorical data such as educational attainment, colors, or gender.\n"
   ]
  },
  {
   "cell_type": "markdown",
   "metadata": {},
   "source": [
    "#### Example:\n",
    "\n",
    "Dice rolls are a great example of data suited for chi-square testing. If we roll a standard 6-sided die a thousand times, we know that each number should come up approximately 1/6 of the time (i.e. 16.67%). A chi-square test can help determine whether a die-roll is a truly random result or if die-roll generators are generating pseudo random results.\n",
    "\n",
    "With die-rolls we know the ‘expected distribution’ is 16.67%, however we may not always know the value of this variable. In this situation where the ‘expected distribution’ is not known, we would estimate the expected frequency through data samples. "
   ]
  },
  {
   "cell_type": "markdown",
   "metadata": {},
   "source": [
    "####  Estimating the 'expected distribution'\n",
    "\n",
    "The following code calculates the frequency of die-rolls using random.randint ().  "
   ]
  },
  {
   "cell_type": "markdown",
   "metadata": {},
   "source": [
    "#### Results:\n",
    "\n",
    "| Dice Roll | Frequency |\n",
    "| :-:   | :-: | \n",
    "| One   | 25 |  \n",
    "| Two   | 25 | \n",
    "| Three | 25 | \n",
    "| Four  | 25 | \n",
    "| Five  | 25 | \n",
    "| Six   | 25 | "
   ]
  },
  {
   "cell_type": "code",
   "execution_count": 163,
   "metadata": {},
   "outputs": [
    {
     "name": "stdout",
     "output_type": "stream",
     "text": [
      "\n",
      "RESULTS OF THE DICE THROW GAME:\n",
      "\n",
      "Frequency of Single Dices Thrown:\n",
      "\n",
      "   1 was rolled 178 times - 17.8 %\n",
      "   2 was rolled 171 times - 17.1 %\n",
      "   3 was rolled 155 times - 15.5 %\n",
      "   4 was rolled 168 times - 16.8 %\n",
      "   5 was rolled 157 times - 15.7 %\n",
      "   6 was rolled 171 times - 17.1 %\n",
      "\n"
     ]
    },
    {
     "data": {
      "image/png": "[encoded data removed]",
      "text/plain": [
       "<Figure size 432x288 with 1 Axes>"
      ]
     },
     "metadata": {
      "needs_background": "light"
     },
     "output_type": "display_data"
    },
    {
     "name": "stdout",
     "output_type": "stream",
     "text": [
      "\n"
     ]
    }
   ],
   "source": [
    "# The following code calculates the frequency of die-rolls of a single dice using random.randint()\n",
    "\n",
    "import random\n",
    "\n",
    "print (\"\")\n",
    "print (\"RESULTS OF THE DICE THROW GAME:\")\n",
    "\n",
    "k = 1000 # Number of times the dices are thrown\n",
    "n = 1  # Number of dices thrown\n",
    "\n",
    "Rounds = 1 # Temporary storage value for 'k'\n",
    "Roll = 0 # Temporary storage value for 'n'\n",
    "List_of_Throws = [] # Empty List to accumulate the individual value of every dice thrown\n",
    "Round_Total = [] # Empty List to accumulate the tally of the throws for each round \n",
    "print (\"\")\n",
    "\n",
    "while Rounds <= k:\n",
    "    \n",
    "    Cumulative = 0 #Re-set the accumulated score to zero at the end of each round\n",
    "    \n",
    "    for Roll in range (1, (n + 1)): # For roll number in range from 1 to n (as defined above)\n",
    "        \n",
    "        Throw = random.randint(1,6) # Generate a random number between 1 and 6 (6 sided dice)\n",
    "        #print (\"Round\", str (Rounds) , \"-\" , \"Dice\" , str (Roll) , \"Rolled:\" , str (Throw)) # print individual throws of the dice in the round\n",
    "        List_of_Throws.append (Throw) # Append the value of the individual dice throws to 'List_of_Throws' List    \n",
    "        Cumulative = Cumulative + Throw # Create a running total for the value of dice thrown in the round\n",
    "        \n",
    "    Rounds = Rounds + 1 # advance to the next round \n",
    "    Roll = Roll + 1     # advance to the next dice    \n",
    "    Round_Total.append (Cumulative) # Creat a List of Round Totals\n",
    "    \n",
    "print (\"Frequency of Single Dices Thrown:\")\n",
    "print (\"\")\n",
    "\n",
    "def asdiceroll1():\n",
    "\n",
    "    Frequency1 = {} # create a blank dictionary to store frequency of each element \n",
    "\n",
    "    for element1 in sorted (List_of_Throws): # iterating over the elements for frequency\n",
    "\n",
    "        if element1 in Frequency1:  #check if the element in the 'List_of_Throws' is already in the dictionary\n",
    "        \n",
    "            Frequency1 [element1] = Frequency1 [element1] + 1  # incrementing the count by 1 if already in dictionary\n",
    "            #Alternative to Frequency1 [element1] += 1\n",
    "        else:\n",
    "            Frequency1 [element1] = 1 # setting the count to 1 if first instance i.e not in the dictionary yet\n",
    "    \n",
    "    for key, value in Frequency1.items():\n",
    "        print (f\" {key:3} was rolled {value:3} times\".format (key,value),\"-\",(round(value/k/n ,4) * 100),\"%\") \n",
    "        # printing the elements frequencies\n",
    "   \n",
    "asdiceroll1() # call the function 'asdiceroll1'\n",
    "\n",
    "print (\"\")\n",
    "x = List_of_Throws\n",
    "plt.hist (x, 6)\n",
    "plt.title (\"Results of the Dice Game\\n\")\n",
    "plt.ylabel (\"Frequency\\n\")\n",
    "plt.xlabel (\"\\n Value of Single Dices Thrown\")\n",
    "plt.show ()\n",
    "print(\"\")\n",
    "#print(x)"
   ]
  },
  {
   "cell_type": "markdown",
   "metadata": {},
   "source": [
    "### Plotting the Results:\n",
    "<BR>"
   ]
  },
  {
   "cell_type": "code",
   "execution_count": 167,
   "metadata": {},
   "outputs": [
    {
     "name": "stdout",
     "output_type": "stream",
     "text": [
      "\n"
     ]
    },
    {
     "data": {
      "image/png": "[encoded data removed]",
      "text/plain": [
       "<Figure size 432x288 with 1 Axes>"
      ]
     },
     "metadata": {
      "needs_background": "light"
     },
     "output_type": "display_data"
    }
   ],
   "source": [
    "print (\"\")\n",
    "plt.title(\"Chisquare Distribution Plot\\n\")\n",
    "plt.ylabel(\"Probability Density\\n\") # Label y axis\n",
    "plt.xlabel(\"\\n Value of Dice Rolled \\n\") # Label x axis\n",
    "sns.distplot(x, bins = 6)\n",
    "plt.show()"
   ]
  },
  {
   "cell_type": "code",
   "execution_count": 134,
   "metadata": {},
   "outputs": [
    {
     "name": "stdout",
     "output_type": "stream",
     "text": [
      "\n"
     ]
    },
    {
     "data": {
      "image/png": "[encoded data removed]",
      "text/plain": [
       "<Figure size 432x288 with 1 Axes>"
      ]
     },
     "metadata": {
      "needs_background": "light"
     },
     "output_type": "display_data"
    }
   ],
   "source": [
    "print (\"\")\n",
    "plt.title(\"Chisquare Distribution Plot\\n\")\n",
    "plt.ylabel(\"Probability Density \\n\") # Label y axis\n",
    "plt.xlabel(\"\\n Numbers selected between 100 and 1000 \\n\") # Label x axis\n",
    "c = np.random.chisquare(100,1000)\n",
    "sns.distplot(c)\n",
    "plt.show()\n"
   ]
  },
  {
   "cell_type": "code",
   "execution_count": 133,
   "metadata": {},
   "outputs": [
    {
     "name": "stdout",
     "output_type": "stream",
     "text": [
      "\n"
     ]
    },
    {
     "data": {
      "image/png": "[encoded data removed]",
      "text/plain": [
       "<Figure size 432x288 with 1 Axes>"
      ]
     },
     "metadata": {
      "needs_background": "light"
     },
     "output_type": "display_data"
    }
   ],
   "source": [
    "print(\"\")\n",
    "plt.title(\"Chisquare Histogram\\n\")\n",
    "plt.ylabel(\"Probability Density \\n\") # Label y axis\n",
    "plt.xlabel(\"\\n Numbers selected between 100 and 1000 \\n\") # Label x axis\n",
    "count, bins, ignored = plt.hist(c, 30, density = True) \n",
    "plt.show()"
   ]
  },
  {
   "cell_type": "markdown",
   "metadata": {},
   "source": [
    "***"
   ]
  },
  {
   "cell_type": "markdown",
   "metadata": {},
   "source": [
    "### 3c. numpy.random.binomial ()"
   ]
  },
  {
   "cell_type": "markdown",
   "metadata": {},
   "source": [
    "### What is numpy.random.binomial?"
   ]
  },
  {
   "cell_type": "markdown",
   "metadata": {},
   "source": [
    "##### numpy.random.binomial (n, p, size=None)\n",
    "\n",
    "A binomial distribution is the probability of a particular outcome i.e.success or failure outcome in an experiment that is repeated multiple times.\n",
    "\n",
    "The trials are independent as the outcome or the previous trial had no effect on the next trial."
   ]
  },
  {
   "cell_type": "markdown",
   "metadata": {},
   "source": [
    "#### Parameter Description:\n",
    "\n",
    "For a total of 'n' independent trials are conducted and we want to find out the probability of 'r' successes, where each success has probability 'p' of occurring. \n",
    "\n",
    "n = Number of independent trials in the experiment\n",
    "\n",
    "p = Probablity of success\n",
    "\n",
    "size = Number of times the trial is repeated\n"
   ]
  },
  {
   "cell_type": "markdown",
   "metadata": {},
   "source": [
    "### When can numpy.random.binomial be used?"
   ]
  },
  {
   "cell_type": "markdown",
   "metadata": {},
   "source": [
    "Np.random.binomial is used when a total of 'n' independent trials are conducted and we want to find out the probability of 'r' successes, where each success has probability 'p' of occurring. \n",
    "\n",
    "The following conditions need to me met:\n",
    "\n",
    "    1. Fixed number of trials (n) - clearly defined number of trials that do not vary.\n",
    "    2. Independent trials - Each trial should have absolutely no effect on any of the others.\n",
    "    3. Two different classifications - Each of the trials is grouped into two classifications: successes and\n",
    "       failures.\n",
    "    4. The probability of success (p)stays the same for all trials - The probabilities of successful trials \n",
    "       must remain the same throughout the process \n"
   ]
  },
  {
   "cell_type": "markdown",
   "metadata": {},
   "source": [
    "### Examples:"
   ]
  },
  {
   "cell_type": "code",
   "execution_count": null,
   "metadata": {},
   "outputs": [],
   "source": [
    "#Generate a random number between 0 and 1. If that number is 0.5 or more, then count it as heads, otherwise tails. ...\n",
    "#Repeat this a specified number of times (the amount of trials is specified by the input variable trials). We will perform 1,000 trials.\n",
    "\n",
    "#Eg a coin toss has only two possible outcomes: heads or tails so each coin toss has a 50% \n",
    "#probability (p) of being head or tails. This test can be performed multiple (n) times \n",
    "\n",
    "n = 10   # Number of coin tosses\n",
    "p = 0.5  # Probability of each trial\n",
    "s = 100  # Number of times the experiment is repeated\n",
    "\n",
    "print (\"\")\n",
    "print (s,\"Results:\")\n",
    "print (\"\")\n",
    "b = np.random.binomial(n, p, s) \n",
    "#50 trials, probability = 0.5, tested 100 times\n",
    "\n",
    "print (b/n)\n",
    "print (\"\")\n",
    "print (\"The probability that that the result is heads is\",sum(b/n > (p)),\"%\")\n",
    "print (\"The probability that that the result is tails is\",sum(b/n < (p)),\"%\")\n",
    "print(\"\")"
   ]
  },
  {
   "cell_type": "code",
   "execution_count": null,
   "metadata": {},
   "outputs": [],
   "source": [
    "#Calculate the probability of success\n",
    "\n",
    "n = 9\n",
    "p = 0.1\n",
    "s = 200\n",
    "print (\"\")\n",
    "print (s,\"Results:\")\n",
    "print (\"\")\n",
    "print (np.random.binomial(n,p,s))\n",
    "print(\"\")\n",
    "print(\"Probability of success\",(sum(np.random.binomial(n,p,s) != 0)/s*100),\"%\")\n",
    "print(\"Probability of failure\",(sum(np.random.binomial(n,p,s) == 0)/s*100),\"%\")\n",
    "print(\"\")"
   ]
  },
  {
   "cell_type": "markdown",
   "metadata": {},
   "source": [
    "### Plotting the Results:"
   ]
  },
  {
   "cell_type": "code",
   "execution_count": null,
   "metadata": {},
   "outputs": [],
   "source": [
    "# number of trials = 10, probability of each trial = 0.5, no.of times tested = 100\n",
    "\n",
    "n, p,s = 10,0.5,100 # number of trials, probability of each\n",
    "plot = np.random.binomial(n, p, s)\n",
    "sns.distplot(plot)\n",
    "print (\"\")\n",
    "plt.title('Binomial Distribution\\n') # Give the plot a title\n",
    "plt.ylabel(\"Probability of Success \\n\") # Give y axis a title\n",
    "plt.xlabel(\"No. of Trials\") # Give x axis a title\n",
    "plt.show()\n",
    "\n"
   ]
  },
  {
   "cell_type": "markdown",
   "metadata": {},
   "source": [
    "***"
   ]
  },
  {
   "cell_type": "markdown",
   "metadata": {},
   "source": [
    "### 3d. numpy.random.normal ()"
   ]
  },
  {
   "cell_type": "markdown",
   "metadata": {},
   "source": [
    "### What is numpy.random.normal?"
   ]
  },
  {
   "cell_type": "markdown",
   "metadata": {},
   "source": [
    "#### numpy.random.normal(loc=0.0, scale=1.0, size=None)\n",
    "\n",
    "The np. random. normal (loc,scale,size) function returns a list of random samples drawn in a bell shaped curve range centred around (normal distribution). The distribution is dependent on the values of the keyword arguments loc , scale , and size."
   ]
  },
  {
   "cell_type": "markdown",
   "metadata": {},
   "source": [
    "#### Parameter Description:\n",
    "\n",
    "loc = The mean of the data i.e. the value that the bell curve will centre around\n",
    "\n",
    "scale = Standard deviation (spread or “width”) of the distribution. Must be non-negative. Samples will be selected 50% right and 50% left of the mean\n",
    "\n",
    "size = Controls the size and shape of the output.\n"
   ]
  },
  {
   "cell_type": "markdown",
   "metadata": {},
   "source": [
    "***"
   ]
  },
  {
   "cell_type": "markdown",
   "metadata": {},
   "source": [
    "### When can numpy.random.normal be used?"
   ]
  },
  {
   "cell_type": "markdown",
   "metadata": {},
   "source": [
    "You can use it to determine the proportion of the values that fall within a specified number of standard deviations from the mean. For example, in a normal distribution, 68% of the observations fall within +/- 1 standard deviation from the mean.\n"
   ]
  },
  {
   "cell_type": "markdown",
   "metadata": {},
   "source": [
    "### Examples:"
   ]
  },
  {
   "cell_type": "code",
   "execution_count": null,
   "metadata": {
    "scrolled": true
   },
   "outputs": [],
   "source": [
    "x = np.random.normal (300.0 , 200.0 , 500)\n",
    "# range of numbers ( loc , scale, size )"
   ]
  },
  {
   "cell_type": "markdown",
   "metadata": {},
   "source": [
    "### Plotting the Results"
   ]
  },
  {
   "cell_type": "code",
   "execution_count": null,
   "metadata": {},
   "outputs": [],
   "source": [
    "plt.hist (x, 20)\n",
    "# histogram broken into 20 bins\n",
    "plt.show ()"
   ]
  },
  {
   "cell_type": "markdown",
   "metadata": {},
   "source": [
    "***"
   ]
  },
  {
   "cell_type": "markdown",
   "metadata": {},
   "source": [
    "### 3e.  numpy.random.triangular ()"
   ]
  },
  {
   "cell_type": "markdown",
   "metadata": {},
   "source": [
    "### What is numpy.random.triangular ?"
   ]
  },
  {
   "cell_type": "markdown",
   "metadata": {},
   "source": [
    "####  numpy.random.triangular (low,  mode, high, size=None)\n",
    "\n",
    "#### Returns a random float number between two given parameters, you can also set a mode parameter to specify the midpoint between the two other parameters\n",
    "\n",
    "A triangular distribution is a continuous probability distribution with a probability density function shaped like a triangle.It is definedby three values: the minimum value (low), the maximum value (high),and the peak value (mode). \n",
    "The numpy.random.triangular() method returns a random floating number between the two specified numbers (low, high).  \n",
    "\n",
    "A third 'mode' parameter can be set which gives the opportunity to weigh the possible outcome closer to one of the low/high parameter values.  The mode parameter defaults to the midpoint between the two other parameter values if only two parameters are specified, which will not weigh the possible outcome in any direction.\n",
    "\n"
   ]
  },
  {
   "cell_type": "markdown",
   "metadata": {},
   "source": [
    "#### Parameter Description:\n",
    "\n",
    "low =\tA number specifying the lowest possible outcome.     Default 0\n",
    "\n",
    "mode = A number used to weigh the result in any direction. Default the midpoint between the low and high values\n",
    "\n",
    "high = \tA number specifying the highest possible outcome.    Default 1\n",
    "\n",
    "size =  Number of of samples"
   ]
  },
  {
   "cell_type": "markdown",
   "metadata": {},
   "source": [
    "### When can numpy.random.triangular be used?"
   ]
  },
  {
   "cell_type": "markdown",
   "metadata": {},
   "source": [
    "Numpy.random.triangular can be used to estimate the maximum and minimum values, and the most likely outcome, even if we don't know the mean and standard deviation"
   ]
  },
  {
   "cell_type": "markdown",
   "metadata": {},
   "source": [
    "### Plotting the Results:"
   ]
  },
  {
   "cell_type": "markdown",
   "metadata": {},
   "source": [
    "##### Example 1: \n",
    "Generate 10,000 random numbers between 0 and 8 weighted around the value 2.   Display the results in 10 bars in the histogram\n",
    "<BR>\n",
    "<BR>"
   ]
  },
  {
   "cell_type": "code",
   "execution_count": null,
   "metadata": {},
   "outputs": [],
   "source": [
    "plot1 = plt.hist(np.random.triangular(0, 2, 8, 10000), bins=10,density=True)"
   ]
  },
  {
   "cell_type": "markdown",
   "metadata": {},
   "source": [
    "##### Example 2:\n",
    "A burger franchise planning a new outlet uses a triangular distribution to model the future weekly sales. They estimate that the minimum weekly sales will be €1000 and the maximum is €6000.  They also estimate that the most likely outcome is around €3000.  \n",
    "The graph of this probability density function is shown below.\n",
    "<BR>"
   ]
  },
  {
   "cell_type": "code",
   "execution_count": null,
   "metadata": {},
   "outputs": [],
   "source": [
    "plot2 = plt.hist(np.random.triangular(1000 , 3000 , 6000, 10000), bins=20,density=True)"
   ]
  },
  {
   "cell_type": "markdown",
   "metadata": {},
   "source": [
    "##### Example 3:"
   ]
  },
  {
   "cell_type": "markdown",
   "metadata": {},
   "source": [
    "Generate 10,000 random numbers between -3 and 8 weighted around the value 0. Display the results in 20 bars in the histogram "
   ]
  },
  {
   "cell_type": "code",
   "execution_count": null,
   "metadata": {
    "scrolled": true
   },
   "outputs": [],
   "source": [
    "plot3 = plt.hist(np.random.triangular(-3, 0, 8, 100000), bins=20,density=True)"
   ]
  },
  {
   "cell_type": "markdown",
   "metadata": {},
   "source": [
    "***"
   ]
  },
  {
   "cell_type": "markdown",
   "metadata": {},
   "source": [
    "### 4. Use of Seeds in generating pseudorandom numbers"
   ]
  },
  {
   "cell_type": "markdown",
   "metadata": {},
   "source": [
    "### What is a Pseudo-random number generator?\n",
    "\n",
    "Computers don’t generate truly random numbers - they mimic randomness by specifying a set of rules also know as 'deterministic'.\n",
    "\n",
    "A pseudo random number generator works by performing some operation on a value and produces an endlessly repeating fixed list of numbers.  The 'apparently' random numbers which we call are actually “pseudo-random numbers” because they are generated by deterministic algorithms. If we analyse the output over a long period of time, we will discover patterns in it, which become more and more prominent as the size of the data available grows. \n",
    "\n",
    "Basically, these pseudo random numbers follow some kinds of sequences which has very very large period. That’s why it appears random to us but in fact are patterns in the long run.  The efficiency of a pseudo random generator lies upon its ability to hide such patterns, even though they are always there."
   ]
  },
  {
   "cell_type": "markdown",
   "metadata": {},
   "source": [
    "### Seed Parameters\n",
    "\n",
    "#### random.seed (a=None, version=2) - This function accepts two parameters. Both are optional.\n",
    "<BR>\n",
    "a = the seed value. If the a value is None, then by default, current system time is used. If randomness sources are provided by the operating system, they are used instead of the system time. If seed value is in the form of an integer is used as it is.\n",
    "\n",
    "With version 2 (the default), a str, bytes, or bytearray object gets converted to an int and all of its bits are used."
   ]
  },
  {
   "cell_type": "markdown",
   "metadata": {},
   "source": [
    "### What is Seed?\n",
    "\n",
    "The seed () is one of the methods in Python's random module. \n",
    "\n",
    "The number sequences generated by the pseudo random generator are completely determined by a seed.  \n",
    "\n",
    "A seed is an initial value that is fed into a pseudo random number generator to start the process of random number generation.  The seed during such random number generation is the starting point in the sequence. \n",
    "\n",
    "If a pseudorandom number generator is reinitialized with the same seed, it will produce the same sequence of numbers. This is useful when we want to debug the program using such deterministic behavior.  If however you want a different sequence of numbers each time, you can use the current time as a seed (see below:)\n"
   ]
  },
  {
   "cell_type": "code",
   "execution_count": null,
   "metadata": {},
   "outputs": [],
   "source": [
    "#Seeding multiple times with the same value produces the same result\n",
    "\n",
    "random.seed(10)\n",
    "print(random.random())\n",
    "\n",
    "random.seed(10)\n",
    "print(random.random()) "
   ]
  },
  {
   "cell_type": "markdown",
   "metadata": {},
   "source": [
    "### Using Seeds\n",
    "\n",
    "Calling a seed initializes the pseudorandom number generator. The seed should be called before generating the random number. \n",
    "\n",
    "The current value is generally the previous number generated by the generator, however, the first time you use the generator, there is no previous value.  Seeding a pseudo-random number generator gives it its first \"previous\" value. Each seed value will correspond to a sequence of generated values for a given random number generator i.e. if you provide the same seed twice, you get the same sequence of numbers twice.\n",
    "\n",
    "Generally, it is preferable unless debugging to seed the random number generator with some value that will change each execution of the program i.e. a random seed.  A random seed specifies the start point when a computer generates a random number sequence. This can be any number, but it usually comes from seconds on a computer system’s clock (Henkemans & Lee, 2001).  This is random number generator default.\n"
   ]
  },
  {
   "cell_type": "code",
   "execution_count": null,
   "metadata": {},
   "outputs": [],
   "source": [
    "#Seeding once produces unique results\n",
    "\n",
    "random.seed(10)\n",
    "print(\"\")\n",
    "print(\"First random value is:\",random.random()) #print(\"Random number with seed 10\")\n",
    "print(\"\")\n",
    "print(\"Second random value is:\",random.random()) #print(\"Random number with seed 10\")\n",
    "print(\"\")\n",
    "print(\"Third random value is:\",random.random()) #print(\"Random number with seed 10\")\n",
    "print (\"\")"
   ]
  },
  {
   "cell_type": "code",
   "execution_count": null,
   "metadata": {},
   "outputs": [],
   "source": [
    "#Seeding once produces unique results with default seed\n",
    "\n",
    "random.seed()\n",
    "print(\"\")\n",
    "print(\"First random value is:\",random.random()) #print(\"Random number with computer generated seed\")\n",
    "print(\"\")\n",
    "print(\"Second random value is:\",random.random()) #print(\"Random number with computer generated seed\")\n",
    "print(\"\")\n",
    "print(\"Third random value is:\",random.random()) #print(\"Random number with computer generated seed\")\n",
    "print (\"\")"
   ]
  },
  {
   "cell_type": "code",
   "execution_count": null,
   "metadata": {},
   "outputs": [],
   "source": []
  },
  {
   "cell_type": "markdown",
   "metadata": {},
   "source": [
    "***"
   ]
  },
  {
   "cell_type": "markdown",
   "metadata": {},
   "source": [
    "### References\n",
    "<BR>"
   ]
  },
  {
   "cell_type": "markdown",
   "metadata": {},
   "source": [
    "#### https://towardsdatascience.com/a-quick-introduction-to-the-numpy-library-6f61b7dee4db\n",
    "#### https://yhpf.medium.com/numpy-random-uniform-9a51183ce8c1\n",
    "#### https://www.statisticshowto.com/probability-and-statistics/binomial-theorem/binomial-distribution-formula/\n",
    "#### https://www.thoughtco.com/when-to-use-binomial-distribution-3126596\n",
    "#### https://towardsdatascience.com/fun-with-the-binomial-distribution-96a5ecabf65b\n",
    "#### https://www.khanacademy.org/computing/computer-programming/programming-natural-simulations/programming-randomness/a/normal-distribution-of-random-numbers\n",
    "#### https://www.statisticshowto.com/probability-and-statistics/binomial-theorem/binomial-distribution-formula/\n",
    "#### https://www.geeksforgeeks.org/numpy-random-exponential-in-python/\n",
    "#### http://omz-software.com/pythonista/numpy/reference/generated/numpy.random.exponential.html#r189\n",
    "#### https://stackoverflow.com/questions/15091982/manipulating-the-numpy-random-exponential-distribution-in-python\n",
    "#### https://www.w3schools.com/python/ref_random_triangular.asp\n",
    "#### https://learnandteachstatistics.files.wordpress.com/2013/07/notes-on-triangle-distributions.pdf\n",
    "#### https://www.sharpsightlabs.com/blog/numpy-random-normal/\n",
    "#### https://www.datacamp.com/community/tutorials/numpy-random\n",
    "#### https://www.w3schools.com/python/numpy_random_chisquare.asp\n",
    "#### https://pynative.com/python-random-module/\n",
    "#### https://www.oreilly.com/library/view/python-for-data/9781449323592/ch04.html\n",
    "#### https://numpy.org/doc/stable/release/1.19.0-notes.html?highlight=random%20sampling\n",
    "#### https://pynative.com/python-random-choice/\n",
    "#### https://pynative.com/python-random-seed/\n",
    "#### https://yourbasic.org/algorithms/random-number-generator-seed/\n",
    "#### https://www.quora.com/What-is-seed-in-random-number-generation \n",
    "#### https://towardsdatascience.com/running-chi-square-tests-in-python-with-die-roll-data-b9903817c51b\n",
    "#### http://onlinestatbook.com/2/chi_square/distribution.html"
   ]
  },
  {
   "cell_type": "markdown",
   "metadata": {},
   "source": [
    "### End"
   ]
  },
  {
   "cell_type": "code",
   "execution_count": null,
   "metadata": {},
   "outputs": [],
   "source": []
  },
  {
   "cell_type": "code",
   "execution_count": null,
   "metadata": {},
   "outputs": [],
   "source": []
  }
 ],
 "metadata": {
  "kernelspec": {
   "display_name": "Python 3",
   "language": "python",
   "name": "python3"
  },
  "language_info": {
   "codemirror_mode": {
    "name": "ipython",
    "version": 3
   },
   "file_extension": ".py",
   "mimetype": "text/x-python",
   "name": "python",
   "nbconvert_exporter": "python",
   "pygments_lexer": "ipython3",
   "version": "3.8.3"
  }
 },
 "nbformat": 4,
 "nbformat_minor": 4
}
