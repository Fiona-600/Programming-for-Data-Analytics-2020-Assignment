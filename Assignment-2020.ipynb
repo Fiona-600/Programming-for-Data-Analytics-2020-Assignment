{
 "cells": [
  {
   "cell_type": "markdown",
   "metadata": {},
   "source": [
    "### Higher Diploma in Science - Data Analytics 2020/21\n",
    "\n",
    "### Programming for Data Analytics 2020 Assignment\n",
    "\n",
    "#### Submitted by Fiona Lee\n",
    "\n",
    "#### Due Date - 22 November 2020\n"
   ]
  },
  {
   "cell_type": "markdown",
   "metadata": {},
   "source": [
    "***"
   ]
  },
  {
   "cell_type": "markdown",
   "metadata": {},
   "source": [
    "### Assignment\n",
    "<BR>\n",
    "\n",
    "\n",
    "You are required to create a Jupyter notebook explaining the use of the numpy.random package, including detailed explanations of at least five of the distributions provided for in the package.\n",
    "\n",
    "There are four distinct tasks to be carried out in your Jupyter notebook:\n",
    "\n",
    "1.  Explain the overall purpose of the package.\n",
    "2.  Explain the use of the “Simple random data” and “Permutations” functions.\n",
    "3.  Explain the use and purpose of at least five “Distributions” functions.\n",
    "4.  Explain the use of seeds in generating pseudorandom numbers\n"
   ]
  },
  {
   "cell_type": "markdown",
   "metadata": {},
   "source": [
    "***"
   ]
  },
  {
   "cell_type": "markdown",
   "metadata": {},
   "source": [
    "### 1. Overall Purpose of numpy.random package\n",
    "<BR>\n"
   ]
  },
  {
   "cell_type": "markdown",
   "metadata": {},
   "source": [
    "NumPy (short for Numerical Python) is an open-source numerical Python library.  It is a module for the Python programming language that is used for data science and scientific computing and it is the library Pandas, Matplotlib and Scikit-learn builds on top off.\n",
    "\n",
    "Put simply, NumPy performs data manipulation on numerical data. It enables you to collect numeric data into a data structure, called the NumPy array and to perform various computations and manipulations on NumPy arrays such as trigonometric, statistical, and algebraic routines.\n",
    "\n",
    "\n",
    "Essentially, NumPy is a package for working with numeric data in Python.\n",
    "\n",
    "The following are the list of common numpy.random operations:\n",
    "\n",
    "- Generate random numbers for various distributions including integer and floats.\n",
    "- Random Sampling and choose elements from the population.\n",
    "- Functions of the random module.\n",
    "- Shuffle the sequence data. Seed the random generator.\n",
    "- Generate random strings and passwords.\n",
    "- Cryptographically secure random generator using a secrets module. Generate secure tokens, security keys, and URL\n",
    "- How to set the state of a random generator.\n",
    "- Use NumPy’s random to generate random arrays.\n",
    "- Use the UUID module to generate unique IDs"
   ]
  },
  {
   "cell_type": "markdown",
   "metadata": {},
   "source": [
    "### Types of Arrays"
   ]
  },
  {
   "cell_type": "markdown",
   "metadata": {},
   "source": [
    "\n",
    "#### NumPy contains a multi-dimensional array and matrix data structures:\n",
    "\n",
    "- NumPy works with Python objects called multi-dimensional arrays. \n",
    "- Arrays are collections of values with one or more dimensions. \n",
    "- The NumPy array data structure is also called ndarray, short for n-dimensional array. \n",
    "- An array with one dimension is called a vector\n",
    "- An array with two dimensions is called a matrix. "
   ]
  },
  {
   "cell_type": "code",
   "execution_count": 2,
   "metadata": {},
   "outputs": [],
   "source": [
    "# Turn a list to a NumPy array:\n",
    "numpy_array = np.array(list)"
   ]
  },
  {
   "cell_type": "markdown",
   "metadata": {},
   "source": [
    "### Single-dimensional Numpy Array"
   ]
  },
  {
   "cell_type": "code",
   "execution_count": 48,
   "metadata": {},
   "outputs": [
    {
     "name": "stdout",
     "output_type": "stream",
     "text": [
      "[1 2 3 4 5 6]\n"
     ]
    }
   ],
   "source": [
    "a = np.array([1,2,3,4,5, 6])\n",
    "print(a)"
   ]
  },
  {
   "cell_type": "markdown",
   "metadata": {},
   "source": [
    "### Multi Dimentional Numpy Array"
   ]
  },
  {
   "cell_type": "code",
   "execution_count": 49,
   "metadata": {},
   "outputs": [
    {
     "name": "stdout",
     "output_type": "stream",
     "text": [
      "[[1 2 3]\n",
      " [4 5 6]]\n"
     ]
    }
   ],
   "source": [
    "a = np.array([(1,2,3),(4,5,6)])\n",
    "print(a)"
   ]
  },
  {
   "cell_type": "markdown",
   "metadata": {},
   "source": [
    "***"
   ]
  },
  {
   "cell_type": "code",
   "execution_count": 4,
   "metadata": {},
   "outputs": [],
   "source": [
    "# import packages:\n",
    "\n",
    "import numpy as np\n",
    "import pandas as pd\n",
    "import matplotlib.pyplot as plt\n",
    "import seaborn as sns\n",
    "import random\n",
    "from itertools import permutations\n",
    "from random import shuffle"
   ]
  },
  {
   "cell_type": "markdown",
   "metadata": {},
   "source": [
    "***"
   ]
  },
  {
   "cell_type": "markdown",
   "metadata": {},
   "source": [
    "### 2a.  Simple Random Data Function\n",
    "<BR>"
   ]
  },
  {
   "cell_type": "markdown",
   "metadata": {},
   "source": [
    "Another cool feature is the ability to create different arrays like random arrays: np.random.rand(3,4) will create a 3x4 array of random numbers between 0 and 1 while np.random.rand(7,6)*100 will create a 7x6 array of random numbers between 0 to 100; you can also define the size of the array in a different way: np.random.randint(10,size=(3,2)) creates an array the size of 3x2 with random numbers between 0 and 9. Remember that the last digit (10) is not included in the range when you use this syntax.\n",
    "\n",
    "It’s also possible to create an array of all zeros: np.zeros(4,3) (4x3 array of all zeros) or ones np.ones((4)) (4x1 array of ones); you can the command np.full((3,2),8) to create a 3x2 array full of 8. You can, of course, change each and every one of these numbers to get the array you want."
   ]
  },
  {
   "cell_type": "markdown",
   "metadata": {},
   "source": [
    "#rand(d0, d1, …, dn)                       Random values in a given shape.\n",
    "#randn(d0, d1, …, dn) \t                   Return a sample (or samples) from the “standard normal” distribution.\n",
    "#randint(low[, high, size, dtype]) \t       Return random integers from low (inclusive) to high (exclusive).\n",
    "#random_integers(low[, high, size]) \t   Random integers of type np.int between low and high, inclusive.\n",
    "#random_sample([size]) \t                   Return random floats in the half-open interval [0.0, 1.0).\n",
    "#random([size]) \t                       Return random floats in the half-open interval [0.0, 1.0).\n",
    "#ranf([size]) \t                           Return random floats in the half-open interval [0.0, 1.0).\n",
    "#sample([size]) \t                       Return random floats in the half-open interval [0.0, 1.0).\n",
    "#choice(a[, size, replace, p]) \t           Generates a random sample from a given 1-D array\n",
    "#bytes(length) \t                           Return random bytes."
   ]
  },
  {
   "cell_type": "markdown",
   "metadata": {},
   "source": [
    "***"
   ]
  },
  {
   "cell_type": "markdown",
   "metadata": {},
   "source": [
    "### 2b.  Permutations Function\n",
    "<BR>"
   ]
  },
  {
   "cell_type": "markdown",
   "metadata": {},
   "source": [
    "### What is permutation?\n",
    "\n",
    "A permutation is defined as a method to calculate the number of events occurring where order matters.\n",
    "\n",
    "#### Permutations Methods:\n",
    "\n",
    "    permutation(x)  Randomly permute a sequence, or return a permuted range.\n",
    "    shuffle(x)      Modify a sequence in-place by shuffling its contents.\n"
   ]
  },
  {
   "cell_type": "markdown",
   "metadata": {},
   "source": [
    "### Method 1 - Permutation () - Show every possible permutation of a given input\n",
    "### Example: "
   ]
  },
  {
   "cell_type": "code",
   "execution_count": 27,
   "metadata": {
    "scrolled": true
   },
   "outputs": [
    {
     "name": "stdout",
     "output_type": "stream",
     "text": [
      "\n",
      "All possible permutations of ['one', 'two', 'three'] :\n",
      "\n",
      "('one', 'two', 'three')\n",
      "('one', 'three', 'two')\n",
      "('two', 'one', 'three')\n",
      "('two', 'three', 'one')\n",
      "('three', 'one', 'two')\n",
      "('three', 'two', 'one')\n",
      "\n"
     ]
    }
   ],
   "source": [
    "from itertools import permutations # Import a Python module to print permutations\n",
    "\n",
    "input = ['one', 'two', 'three']\n",
    "p = permutations (input) #Show every possible permutation of one, two and three\n",
    "print(\"\") \n",
    "print (\"All possible permutations of\", input,\":\")\n",
    "print(\"\")\n",
    "# Print the permutations \n",
    "for i in p: \n",
    "        print(i)\n",
    "print (\"\")"
   ]
  },
  {
   "cell_type": "markdown",
   "metadata": {},
   "source": [
    "### Method 2 - Shuffle (x)"
   ]
  },
  {
   "cell_type": "markdown",
   "metadata": {},
   "source": [
    "The shuffle() method takes a sequence and reorganizes the order of those items.  The input sequence can be in a may be in a list, string, or tuple format"
   ]
  },
  {
   "cell_type": "markdown",
   "metadata": {},
   "source": [
    "#### random.shuffle(sequence, function)"
   ]
  },
  {
   "cell_type": "code",
   "execution_count": 30,
   "metadata": {},
   "outputs": [
    {
     "name": "stdout",
     "output_type": "stream",
     "text": [
      "\n",
      "Reshuffled values :  ['one', 'three', 'two']\n",
      "\n"
     ]
    }
   ],
   "source": [
    "from random import shuffle\n",
    "\n",
    "input = ['one', 'two', 'three']\n",
    "\n",
    "p = shuffle(input) # Shuffle and print the outcome\n",
    "print(\"\")\n",
    "print (\"Reshuffled values : \", input)\n",
    "print (\"\")"
   ]
  },
  {
   "cell_type": "markdown",
   "metadata": {},
   "source": [
    "***"
   ]
  },
  {
   "cell_type": "markdown",
   "metadata": {},
   "source": [
    "### 3. Use and Purpose of 5 Distribution Functions\n"
   ]
  },
  {
   "cell_type": "markdown",
   "metadata": {},
   "source": [
    "### 3a. numpy.random.uniform ()"
   ]
  },
  {
   "cell_type": "markdown",
   "metadata": {},
   "source": [
    "\n",
    "### What is numpy.random.uniform?\n",
    "\n",
    "#### numpy.random.uniform (low, high, size=None)\n",
    "\n",
    "Returns a random float number between two given parameters\n",
    "\n",
    "np.random.uniform () generates random floating number(s) i.e.decimal number(s) between a lower and upper value which can either be specified or set to a default to a value of (0,1).  In this type of probability distribution all outcomes are equally likely to be chosen.\n",
    "\n",
    "The size of your output i.e. the number of random numbers returned can be set using np.random.uniform (low, high, size = ?). This is optional, the default is np.random.uniform (low, high, size = None).\n",
    "\n",
    "It is possible to round the result to the nearest integer using round(np.random.uniform) generates a random integer rather than a floating number."
   ]
  },
  {
   "cell_type": "markdown",
   "metadata": {},
   "source": [
    "#### Parameter Description:\n",
    "\n",
    "low = A number specifying the lowest possible outcome. Default 0\n",
    "\n",
    "high = A number specifying the highest possible outcome. Default 1\n",
    "\n",
    "size = Number of of samples\n"
   ]
  },
  {
   "cell_type": "markdown",
   "metadata": {},
   "source": [
    "### When can numpy.random.uniform​ be used?\n",
    "\n",
    "When you need random numbers between 0 and 1.  The output can be set to select between 0 and 1 (default) or between two specified lower and upper boundaries. The output can either be diplayed as a decimal or as a round number."
   ]
  },
  {
   "cell_type": "markdown",
   "metadata": {},
   "source": [
    "### Examples: "
   ]
  },
  {
   "cell_type": "code",
   "execution_count": 3,
   "metadata": {},
   "outputs": [
    {
     "data": {
      "text/plain": [
       "0.12186152990054899"
      ]
     },
     "execution_count": 3,
     "metadata": {},
     "output_type": "execute_result"
    }
   ],
   "source": [
    "# Uniformly generate a random number using the default values i.e. low = 0 and high = 1\n",
    "\n",
    "np.random.uniform ()"
   ]
  },
  {
   "cell_type": "code",
   "execution_count": 4,
   "metadata": {},
   "outputs": [
    {
     "data": {
      "text/plain": [
       "0.7036853506463844"
      ]
     },
     "execution_count": 4,
     "metadata": {},
     "output_type": "execute_result"
    }
   ],
   "source": [
    "# Uniformly generate a single random floating numbers between 0 and 1 (default values)\n",
    "\n",
    "np.random.uniform(0,1,size = None)"
   ]
  },
  {
   "cell_type": "code",
   "execution_count": 5,
   "metadata": {},
   "outputs": [
    {
     "data": {
      "text/plain": [
       "0.9774656120346212"
      ]
     },
     "execution_count": 5,
     "metadata": {},
     "output_type": "execute_result"
    }
   ],
   "source": [
    "# Uniformly generate a random number with decimals between 0 and 1\n",
    "\n",
    "np.random.uniform(0,1)"
   ]
  },
  {
   "cell_type": "code",
   "execution_count": 6,
   "metadata": {},
   "outputs": [
    {
     "data": {
      "text/plain": [
       "18"
      ]
     },
     "execution_count": 6,
     "metadata": {},
     "output_type": "execute_result"
    }
   ],
   "source": [
    "# Uniformly generate a random number between 0 and 100 and round to the nearest integer\n",
    "\n",
    "round(np.random.uniform(0,100)*1) "
   ]
  },
  {
   "cell_type": "code",
   "execution_count": 7,
   "metadata": {},
   "outputs": [
    {
     "data": {
      "text/plain": [
       "array([0.78797712, 0.89067619, 0.3912511 , 0.77306922, 0.56901552,\n",
       "       0.52749547, 0.8811119 , 0.3248053 , 0.77211638, 0.18723309])"
      ]
     },
     "execution_count": 7,
     "metadata": {},
     "output_type": "execute_result"
    }
   ],
   "source": [
    "# Uniformly generate 10 random floating numbers between 0 and 1\n",
    "\n",
    "np.random.uniform (0,1,size = 10)"
   ]
  },
  {
   "cell_type": "code",
   "execution_count": 8,
   "metadata": {
    "scrolled": true
   },
   "outputs": [
    {
     "name": "stdout",
     "output_type": "stream",
     "text": [
      "\n",
      "50 Random Numbers:\n",
      "\n",
      "[9.99958639 5.83693541 8.72161382 1.18399619 6.44651925 4.03901598\n",
      " 2.72646385 9.47658507 2.58406329 4.87038991 5.72210738 9.47841402\n",
      " 4.6524725  6.06013649 9.74739134 5.17043527 9.50126786 9.56682672\n",
      " 1.07752233 4.58826384 3.58674926 8.18948824 6.60969385 4.70010939\n",
      " 9.88971604 5.55827118 9.57473274 4.70473142 7.40906205 9.9958983\n",
      " 6.80777821 2.25195582 1.97057321 9.62962659 2.77595844 6.55191653\n",
      " 9.29618868 8.84535859 3.21696556 8.01613853 4.40817899 7.08722239\n",
      " 3.1373468  7.60735298 5.27404386 7.64338616 6.46037722 2.26882423\n",
      " 6.06943971 8.60946572]\n",
      "\n"
     ]
    }
   ],
   "source": [
    "#Generate 50 random numbers between 1 and 10 in a completely random fashion.\n",
    "\n",
    "u = np.random.uniform(1,10,size = 50)\n",
    "print (\"\")\n",
    "print (len(u),\"Random Numbers:\")\n",
    "print(\"\")\n",
    "print (u)\n",
    "print(\"\")"
   ]
  },
  {
   "cell_type": "markdown",
   "metadata": {},
   "source": [
    "### Plotting the Results:"
   ]
  },
  {
   "cell_type": "code",
   "execution_count": 37,
   "metadata": {},
   "outputs": [
    {
     "name": "stdout",
     "output_type": "stream",
     "text": [
      "\n"
     ]
    },
    {
     "data": {
      "image/png": "[encoded data removed]",
      "text/plain": [
       "<Figure size 432x288 with 1 Axes>"
      ]
     },
     "metadata": {
      "needs_background": "light"
     },
     "output_type": "display_data"
    },
    {
     "name": "stdout",
     "output_type": "stream",
     "text": [
      "\n"
     ]
    },
    {
     "data": {
      "image/png": "[encoded data removed]",
      "text/plain": [
       "<Figure size 432x288 with 1 Axes>"
      ]
     },
     "metadata": {
      "needs_background": "light"
     },
     "output_type": "display_data"
    }
   ],
   "source": [
    "print (\"\")\n",
    "plt.title(\"Sample Uniform Distribution Histogram\\n\")\n",
    "plt.hist (u , bins = 10)\n",
    "plt.ylabel(\"Frequency \\n\") # Label y axis\n",
    "plt.xlabel(\"\\n Numbers selected between 1 and 10 \\n\") # Label x axis\n",
    "plt.show()\n",
    "print (\"\")\n",
    "plt.title(\"Sample Seaborn Uniform Distribution Plot\\n\")\n",
    "sns.distplot(u , bins = (10))\n",
    "plt.ylabel(\"Frequency \\n\") # Label y axis\n",
    "plt.xlabel(\"\\n Numbers selected between 1 and 10 \\n\") # Label x axis\n",
    "plt.show()"
   ]
  },
  {
   "cell_type": "markdown",
   "metadata": {},
   "source": [
    "***"
   ]
  },
  {
   "cell_type": "markdown",
   "metadata": {},
   "source": [
    "### 3b. numpy.random.chisquare ()"
   ]
  },
  {
   "cell_type": "markdown",
   "metadata": {},
   "source": [
    "### What is numpy.random.chisquare?"
   ]
  },
  {
   "cell_type": "markdown",
   "metadata": {},
   "source": [
    "#### numpy.random.chisquare(df, size=None)\n",
    "\n",
    "When df independent random variables, each with standard normal distributions (mean 0, variance 1), are squared and summed, the resulting distribution is chi-square (see Notes). "
   ]
  },
  {
   "cell_type": "markdown",
   "metadata": {},
   "source": [
    "#### Parameters:\n",
    "\n",
    "df   =  Number of degrees of freedom (Integer > 0)\n",
    "\n",
    "size =  Defines the output shape. Number of samples drawn. (Integer or tuple)\n",
    "Size is an optional parameter.  Default = None if not defined, returns a single value\n"
   ]
  },
  {
   "cell_type": "markdown",
   "metadata": {},
   "source": [
    "### When can numpy.random.chisquare be used?"
   ]
  },
  {
   "cell_type": "markdown",
   "metadata": {},
   "source": [
    "This distribution is often used in hypothesis testing."
   ]
  },
  {
   "cell_type": "code",
   "execution_count": null,
   "metadata": {},
   "outputs": [],
   "source": []
  },
  {
   "cell_type": "markdown",
   "metadata": {},
   "source": [
    "### Examples:"
   ]
  },
  {
   "cell_type": "code",
   "execution_count": 39,
   "metadata": {},
   "outputs": [],
   "source": [
    "#Generate 4 random samples\n",
    "\n",
    "from numpy import random\n",
    "import matplotlib.pyplot as plt\n",
    "import seaborn as sns\n"
   ]
  },
  {
   "cell_type": "markdown",
   "metadata": {},
   "source": [
    "### Plotting the Results:"
   ]
  },
  {
   "cell_type": "code",
   "execution_count": 42,
   "metadata": {},
   "outputs": [
    {
     "name": "stdout",
     "output_type": "stream",
     "text": [
      "\n"
     ]
    },
    {
     "data": {
      "image/png": "[encoded data removed]",
      "text/plain": [
       "<Figure size 432x288 with 1 Axes>"
      ]
     },
     "metadata": {
      "needs_background": "light"
     },
     "output_type": "display_data"
    }
   ],
   "source": [
    "print (\"\")\n",
    "plt.title(\"Sample Chisquare Distribution Plot\\n\")\n",
    "plt.ylabel(\"Frequency \\n\") # Label y axis\n",
    "plt.xlabel(\"\\n Numbers selected between 1 and 10 \\n\") # Label x axis\n",
    "sns.distplot(random.chisquare(1,1000))\n",
    "plt.show()"
   ]
  },
  {
   "cell_type": "markdown",
   "metadata": {},
   "source": [
    "***"
   ]
  },
  {
   "cell_type": "markdown",
   "metadata": {},
   "source": [
    "### 3c. numpy.random.binomial ()"
   ]
  },
  {
   "cell_type": "markdown",
   "metadata": {},
   "source": [
    "### What is numpy.random.binomial?"
   ]
  },
  {
   "cell_type": "markdown",
   "metadata": {},
   "source": [
    "##### numpy.random.binomial (n, p, size=None)\n",
    "\n",
    "A binomial distribution is the probability of a particular outcome i.e.success or failure outcome in an experiment that is repeated multiple times.\n",
    "\n",
    "The trials are independent as the outcome or the previous trial had no effect on the next trial."
   ]
  },
  {
   "cell_type": "markdown",
   "metadata": {},
   "source": [
    "#### Parameter Description:\n",
    "\n",
    "For a total of 'n' independent trials are conducted and we want to find out the probability of 'r' successes, where each success has probability 'p' of occurring. \n",
    "\n",
    "n = Number of independent trials in the experiment\n",
    "\n",
    "p = Probablity of success\n",
    "\n",
    "size = Number of times the trial is repeated\n"
   ]
  },
  {
   "cell_type": "markdown",
   "metadata": {},
   "source": [
    "### When can numpy.random.binomial be used?"
   ]
  },
  {
   "cell_type": "markdown",
   "metadata": {},
   "source": [
    "Np.random.binomial is used when a total of 'n' independent trials are conducted and we want to find out the probability of 'r' successes, where each success has probability 'p' of occurring. \n",
    "\n",
    "The following conditions need to me met:\n",
    "\n",
    "    1. Fixed number of trials (n) - clearly defined number of trials that do not vary.\n",
    "    2. Independent trials - Each trial should have absolutely no effect on any of the others.\n",
    "    3. Two different classifications - Each of the trials is grouped into two classifications: successes and\n",
    "       failures.\n",
    "    4. The probability of success (p)stays the same for all trials - The probabilities of successful trials \n",
    "       must remain the same throughout the process \n"
   ]
  },
  {
   "cell_type": "markdown",
   "metadata": {},
   "source": [
    "### Examples:"
   ]
  },
  {
   "cell_type": "code",
   "execution_count": 12,
   "metadata": {},
   "outputs": [
    {
     "name": "stdout",
     "output_type": "stream",
     "text": [
      "\n",
      "100 Results:\n",
      "\n",
      "[0.5 0.4 0.7 0.6 0.6 0.5 0.3 0.4 0.6 0.6 0.7 0.5 0.8 0.5 0.7 0.5 0.2 0.7\n",
      " 0.3 0.7 0.2 0.9 0.5 0.5 0.6 0.7 0.1 0.4 0.5 0.6 0.3 0.8 0.6 0.5 0.6 0.5\n",
      " 0.4 0.4 0.7 0.7 0.5 0.5 0.6 0.2 0.8 0.3 0.7 0.3 0.6 0.5 0.5 0.3 0.2 0.6\n",
      " 0.6 0.5 0.4 0.5 0.3 0.5 0.5 0.7 0.5 0.8 0.5 0.3 0.4 0.4 0.4 0.4 0.4 0.4\n",
      " 0.3 0.2 0.6 0.3 0.5 0.6 0.4 0.7 0.3 0.8 0.6 0.5 0.6 0.7 0.5 0.5 0.4 0.5\n",
      " 0.6 0.4 0.5 0.7 0.6 0.3 0.5 0.5 0.4 0.4]\n",
      "\n",
      "The probability that that the result is heads is 37 %\n",
      "The probability that that the result is tails is 35 %\n",
      "\n"
     ]
    }
   ],
   "source": [
    "#Generate a random number between 0 and 1. If that number is 0.5 or more, then count it as heads, otherwise tails. ...\n",
    "#Repeat this a specified number of times (the amount of trials is specified by the input variable trials). We will perform 1,000 trials.\n",
    "\n",
    "#Eg a coin toss has only two possible outcomes: heads or tails so each coin toss has a 50% \n",
    "#probability (p) of being head or tails. This test can be performed multiple (n) times \n",
    "\n",
    "n = 10   # Number of coin tosses\n",
    "p = 0.5  # Probability of each trial\n",
    "s = 100  # Number of times the experiment is repeated\n",
    "\n",
    "print (\"\")\n",
    "print (s,\"Results:\")\n",
    "print (\"\")\n",
    "b = np.random.binomial(n, p, s) \n",
    "#50 trials, probability = 0.5, tested 100 times\n",
    "\n",
    "print (b/n)\n",
    "print (\"\")\n",
    "print (\"The probability that that the result is heads is\",sum(b/n > (p)),\"%\")\n",
    "print (\"The probability that that the result is tails is\",sum(b/n < (p)),\"%\")\n",
    "print(\"\")"
   ]
  },
  {
   "cell_type": "code",
   "execution_count": 13,
   "metadata": {},
   "outputs": [
    {
     "name": "stdout",
     "output_type": "stream",
     "text": [
      "\n",
      "200 Results:\n",
      "\n",
      "[0 0 0 3 0 2 3 1 0 0 4 0 1 3 0 0 0 2 0 0 0 1 0 1 2 1 2 1 1 1 3 0 0 1 0 1 0\n",
      " 2 0 1 2 0 1 3 1 4 2 2 1 2 0 2 1 0 3 2 0 0 0 1 1 1 1 1 1 2 0 2 1 1 1 0 1 1\n",
      " 2 0 1 2 1 0 1 1 3 1 1 1 1 2 1 2 1 3 1 1 0 1 1 1 1 0 2 1 3 1 0 1 0 1 0 1 1\n",
      " 0 0 2 0 0 2 1 0 0 0 1 0 1 1 1 0 0 1 1 1 1 2 1 2 2 1 1 3 1 0 1 1 1 1 0 0 3\n",
      " 1 1 1 2 0 2 0 3 3 0 1 0 0 0 4 2 1 1 2 2 1 3 0 2 1 2 2 1 0 1 1 0 1 0 0 1 2\n",
      " 2 0 0 1 2 2 2 2 2 0 2 0 0 0 1]\n",
      "\n",
      "Probability of success 55.50000000000001 %\n",
      "Probability of failure 42.5 %\n",
      "\n"
     ]
    }
   ],
   "source": [
    "#Calculate the probability of success\n",
    "\n",
    "n = 9\n",
    "p = 0.1\n",
    "s = 200\n",
    "print (\"\")\n",
    "print (s,\"Results:\")\n",
    "print (\"\")\n",
    "print (np.random.binomial(n,p,s))\n",
    "print(\"\")\n",
    "print(\"Probability of success\",(sum(np.random.binomial(n,p,s) != 0)/s*100),\"%\")\n",
    "print(\"Probability of failure\",(sum(np.random.binomial(n,p,s) == 0)/s*100),\"%\")\n",
    "print(\"\")"
   ]
  },
  {
   "cell_type": "markdown",
   "metadata": {},
   "source": [
    "### Plotting the Results:"
   ]
  },
  {
   "cell_type": "code",
   "execution_count": 27,
   "metadata": {},
   "outputs": [
    {
     "name": "stdout",
     "output_type": "stream",
     "text": [
      "\n"
     ]
    },
    {
     "data": {
      "image/png": "[encoded data removed]",
      "text/plain": [
       "<Figure size 432x288 with 1 Axes>"
      ]
     },
     "metadata": {
      "needs_background": "light"
     },
     "output_type": "display_data"
    }
   ],
   "source": [
    "# number of trials = 10, probability of each trial = 0.5, no.of times tested = 100\n",
    "\n",
    "n, p,s = 10,0.5,100 # number of trials, probability of each\n",
    "plot = np.random.binomial(n, p, s)\n",
    "sns.distplot(plot)\n",
    "print (\"\")\n",
    "plt.title('Binomial Distribution\\n') # Give the plot a title\n",
    "plt.ylabel(\"Probability of Success \\n\") # Give y axis a title\n",
    "plt.xlabel(\"No. of Trials\") # Give x axis a title\n",
    "plt.show()\n",
    "\n"
   ]
  },
  {
   "cell_type": "markdown",
   "metadata": {},
   "source": [
    "***"
   ]
  },
  {
   "cell_type": "markdown",
   "metadata": {},
   "source": [
    "### 3d. numpy.random.normal ()"
   ]
  },
  {
   "cell_type": "markdown",
   "metadata": {},
   "source": [
    "### What is numpy.random.normal?"
   ]
  },
  {
   "cell_type": "markdown",
   "metadata": {},
   "source": [
    "#### numpy.random.normal(loc=0.0, scale=1.0, size=None)\n",
    "\n",
    "The np. random. normal (loc,scale,size) function returns a list of random samples drawn in a bell shaped curve range centred around (normal distribution). The distribution is dependent on the values of the keyword arguments loc , scale , and size."
   ]
  },
  {
   "cell_type": "markdown",
   "metadata": {},
   "source": [
    "#### Parameter Description:\n",
    "\n",
    "loc = The mean of the data i.e. the value that the bell curve will centre around\n",
    "\n",
    "scale = Standard deviation (spread or “width”) of the distribution. Must be non-negative. Samples will be selected 50% right and 50% left of the mean\n",
    "\n",
    "size = Controls the size and shape of the output.\n"
   ]
  },
  {
   "cell_type": "markdown",
   "metadata": {},
   "source": [
    "***"
   ]
  },
  {
   "cell_type": "markdown",
   "metadata": {},
   "source": [
    "### When can numpy.random.normal be used?"
   ]
  },
  {
   "cell_type": "markdown",
   "metadata": {},
   "source": [
    "You can use it to determine the proportion of the values that fall within a specified number of standard deviations from the mean. For example, in a normal distribution, 68% of the observations fall within +/- 1 standard deviation from the mean.\n"
   ]
  },
  {
   "cell_type": "markdown",
   "metadata": {},
   "source": [
    "### Examples:"
   ]
  },
  {
   "cell_type": "code",
   "execution_count": 15,
   "metadata": {
    "scrolled": true
   },
   "outputs": [],
   "source": [
    "x = np.random.normal (300.0 , 200.0 , 500)\n",
    "# range of numbers ( loc , scale, size )"
   ]
  },
  {
   "cell_type": "markdown",
   "metadata": {},
   "source": [
    "### Plotting the Results"
   ]
  },
  {
   "cell_type": "code",
   "execution_count": 16,
   "metadata": {},
   "outputs": [
    {
     "data": {
      "image/png": "[encoded data removed]",
      "text/plain": [
       "<Figure size 432x288 with 1 Axes>"
      ]
     },
     "metadata": {
      "needs_background": "light"
     },
     "output_type": "display_data"
    }
   ],
   "source": [
    "plt.hist (x, 20)\n",
    "# histogram broken into 20 bins\n",
    "plt.show ()"
   ]
  },
  {
   "cell_type": "markdown",
   "metadata": {},
   "source": [
    "***"
   ]
  },
  {
   "cell_type": "markdown",
   "metadata": {},
   "source": [
    "### 3e.  numpy.random.triangular ()"
   ]
  },
  {
   "cell_type": "markdown",
   "metadata": {},
   "source": [
    "### What is numpy.random.triangular ?"
   ]
  },
  {
   "cell_type": "markdown",
   "metadata": {},
   "source": [
    "####  numpy.random.triangular (low,  mode, high, size=None)\n",
    "\n",
    "#### Returns a random float number between two given parameters, you can also set a mode parameter to specify the midpoint between the two other parameters\n",
    "\n",
    "A triangular distribution is a continuous probability distribution with a probability density function shaped like a triangle.It is definedby three values: the minimum value (low), the maximum value (high),and the peak value (mode). \n",
    "The numpy.random.triangular() method returns a random floating number between the two specified numbers (low, high).  \n",
    "\n",
    "A third 'mode' parameter can be set which gives the opportunity to weigh the possible outcome closer to one of the low/high parameter values.  The mode parameter defaults to the midpoint between the two other parameter values if only two parameters are specified, which will not weigh the possible outcome in any direction.\n",
    "\n"
   ]
  },
  {
   "cell_type": "markdown",
   "metadata": {},
   "source": [
    "#### Parameter Description:\n",
    "\n",
    "low =\tA number specifying the lowest possible outcome.     Default 0\n",
    "\n",
    "mode = A number used to weigh the result in any direction. Default the midpoint between the low and high values\n",
    "\n",
    "high = \tA number specifying the highest possible outcome.    Default 1\n",
    "\n",
    "size =  Number of of samples"
   ]
  },
  {
   "cell_type": "markdown",
   "metadata": {},
   "source": [
    "### When can numpy.random.triangular be used?"
   ]
  },
  {
   "cell_type": "markdown",
   "metadata": {},
   "source": [
    "Numpy.random.triangular can be used to estimate the maximum and minimum values, and the most likely outcome, even if we don't know the mean and standard deviation"
   ]
  },
  {
   "cell_type": "markdown",
   "metadata": {},
   "source": [
    "### Plotting the Results:"
   ]
  },
  {
   "cell_type": "markdown",
   "metadata": {},
   "source": [
    "##### Example 1: \n",
    "Generate 10,000 random numbers between 0 and 8 weighted around the value 2.   Display the results in 10 bars in the histogram\n",
    "<BR>\n",
    "<BR>"
   ]
  },
  {
   "cell_type": "code",
   "execution_count": 17,
   "metadata": {},
   "outputs": [
    {
     "data": {
      "image/png": "[encoded data removed]",
      "text/plain": [
       "<Figure size 432x288 with 1 Axes>"
      ]
     },
     "metadata": {
      "needs_background": "light"
     },
     "output_type": "display_data"
    }
   ],
   "source": [
    "plot1 = plt.hist(np.random.triangular(0, 2, 8, 10000), bins=10,density=True)\n"
   ]
  },
  {
   "cell_type": "markdown",
   "metadata": {},
   "source": [
    "##### Example 2:\n",
    "A burger franchise planning a new outlet uses a triangular distribution to model the future weekly sales. They estimate that the minimum weekly sales will be €1000 and the maximum is €6000.  They also estimate that the most likely outcome is around €3000.  \n",
    "The graph of this probability density function is shown below.\n",
    "<BR>"
   ]
  },
  {
   "cell_type": "code",
   "execution_count": 18,
   "metadata": {},
   "outputs": [
    {
     "data": {
      "image/png": "[encoded data removed]",
      "text/plain": [
       "<Figure size 432x288 with 1 Axes>"
      ]
     },
     "metadata": {
      "needs_background": "light"
     },
     "output_type": "display_data"
    }
   ],
   "source": [
    "plot2 = plt.hist(np.random.triangular(1000 , 3000 , 6000, 10000), bins=20,density=True)"
   ]
  },
  {
   "cell_type": "markdown",
   "metadata": {},
   "source": [
    "##### Example 3:"
   ]
  },
  {
   "cell_type": "markdown",
   "metadata": {},
   "source": [
    "Generate 10,000 random numbers between -3 and 8 weighted around the value 0. Display the results in 20 bars in the histogram "
   ]
  },
  {
   "cell_type": "code",
   "execution_count": 19,
   "metadata": {
    "scrolled": true
   },
   "outputs": [
    {
     "data": {
      "image/png": "[encoded data removed]",
      "text/plain": [
       "<Figure size 432x288 with 1 Axes>"
      ]
     },
     "metadata": {
      "needs_background": "light"
     },
     "output_type": "display_data"
    }
   ],
   "source": [
    "plot3 = plt.hist(np.random.triangular(-3, 0, 8, 100000), bins=20,density=True)"
   ]
  },
  {
   "cell_type": "markdown",
   "metadata": {},
   "source": [
    "***"
   ]
  },
  {
   "cell_type": "markdown",
   "metadata": {},
   "source": [
    "### 4. Use of Seeds in generating pseudorandom numbers\n",
    "<BR>"
   ]
  },
  {
   "cell_type": "code",
   "execution_count": null,
   "metadata": {},
   "outputs": [],
   "source": []
  },
  {
   "cell_type": "markdown",
   "metadata": {},
   "source": [
    "***"
   ]
  },
  {
   "cell_type": "markdown",
   "metadata": {},
   "source": [
    "### References\n",
    "<BR>"
   ]
  },
  {
   "cell_type": "markdown",
   "metadata": {},
   "source": [
    "#### https://towardsdatascience.com/a-quick-introduction-to-the-numpy-library-6f61b7dee4db\n",
    "#### https://yhpf.medium.com/numpy-random-uniform-9a51183ce8c1\n",
    "#### https://www.statisticshowto.com/probability-and-statistics/binomial-theorem/binomial-distribution-formula/\n",
    "#### https://www.thoughtco.com/when-to-use-binomial-distribution-3126596\n",
    "#### https://towardsdatascience.com/fun-with-the-binomial-distribution-96a5ecabf65b\n",
    "#### https://www.khanacademy.org/computing/computer-programming/programming-natural-simulations/programming-randomness/a/normal-distribution-of-random-numbers\n",
    "#### https://www.statisticshowto.com/probability-and-statistics/binomial-theorem/binomial-distribution-formula/\n",
    "#### https://www.geeksforgeeks.org/numpy-random-exponential-in-python/\n",
    "#### http://omz-software.com/pythonista/numpy/reference/generated/numpy.random.exponential.html#r189\n",
    "#### https://stackoverflow.com/questions/15091982/manipulating-the-numpy-random-exponential-distribution-in-python\n",
    "#### https://www.w3schools.com/python/ref_random_triangular.asp\n",
    "#### https://learnandteachstatistics.files.wordpress.com/2013/07/notes-on-triangle-distributions.pdf\n",
    "#### https://www.sharpsightlabs.com/blog/numpy-random-normal/\n",
    "#### https://www.datacamp.com/community/tutorials/numpy-random\n",
    "#### https://www.w3schools.com/python/numpy_random_chisquare.asp\n",
    "#### https://pynative.com/python-random-module/\n",
    "#### https://www.oreilly.com/library/view/python-for-data/9781449323592/ch04.html\n",
    "####"
   ]
  },
  {
   "cell_type": "markdown",
   "metadata": {},
   "source": [
    "### End"
   ]
  }
 ],
 "metadata": {
  "kernelspec": {
   "display_name": "Python 3",
   "language": "python",
   "name": "python3"
  },
  "language_info": {
   "codemirror_mode": {
    "name": "ipython",
    "version": 3
   },
   "file_extension": ".py",
   "mimetype": "text/x-python",
   "name": "python",
   "nbconvert_exporter": "python",
   "pygments_lexer": "ipython3",
   "version": "3.8.3"
  }
 },
 "nbformat": 4,
 "nbformat_minor": 4
}
