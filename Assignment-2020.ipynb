{
 "cells": [
  {
   "cell_type": "markdown",
   "metadata": {},
   "source": [
    "### Higher Diploma in Science - Data Analytics 2020/21\n",
    "\n",
    "### Programming for Data Analytics 2020 Assignment\n",
    "\n",
    "#### Submitted by Fiona Lee\n",
    "\n",
    "#### Due Date - 22 November 2020\n"
   ]
  },
  {
   "cell_type": "markdown",
   "metadata": {},
   "source": [
    "***"
   ]
  },
  {
   "cell_type": "markdown",
   "metadata": {},
   "source": [
    "### Assignment\n",
    "<BR>\n",
    "\n",
    "\n",
    "You are required to create a Jupyter notebook explaining the use of the numpy.random package, including detailed explanations of at least five of the distributions provided for in the package.\n",
    "\n",
    "There are four distinct tasks to be carried out in your Jupyter notebook:\n",
    "\n",
    "1.  Explain the overall purpose of the package.\n",
    "2.  Explain the use of the “Simple random data” and “Permutations” functions.\n",
    "3.  Explain the use and purpose of at least five “Distributions” functions.\n",
    "4.  Explain the use of seeds in generating pseudorandom numbers\n"
   ]
  },
  {
   "cell_type": "markdown",
   "metadata": {},
   "source": [
    "***"
   ]
  },
  {
   "cell_type": "markdown",
   "metadata": {},
   "source": [
    "### 1. Overall Purpose of numpy.random package\n",
    "<BR>"
   ]
  },
  {
   "cell_type": "markdown",
   "metadata": {},
   "source": [
    "NumPy is an open-source numerical Python library. NumPy contains a multi-dimensional array and matrix data structures. It can be utilised to perform a number of mathematical operations on arrays such as trigonometric, statistical, and algebraic routines.\n",
    "\n",
    "NumPy (short for Numerical Python) is “the fundamental package for scientific computing with Python” and it is the library Pandas, Matplotlib and Scikit-learn builds on top off.\n",
    "\n",
    "NumPy works with Python objects called multi-dimensional arrays. Arrays are basically collections of values, and they have one or more dimensions. NumPy array data structure is also called ndarray, short for n-dimensional array. An array with one dimension is called a vector and an array with two dimensions is called a matrix. Datasets are usually built as matrices and it is much easier to open those with NumPy instead of working with list of lists, for example.\n",
    "\n",
    "Pandas is an open-source library built on top of numpy providing high-performance, easy-to-use data structures and data analysis tools for the Python programming language. It allows for fast analysis and data cleaning and preparation.\n",
    "\n"
   ]
  },
  {
   "cell_type": "code",
   "execution_count": 1,
   "metadata": {},
   "outputs": [],
   "source": [
    "# import packages:\n",
    "\n",
    "import numpy as np\n",
    "import pandas as pd\n",
    "import matplotlib.pyplot as plt\n",
    "import seaborn as sns\n",
    "import random"
   ]
  },
  {
   "cell_type": "markdown",
   "metadata": {},
   "source": [
    "    ###Introduction\n",
    "    \n",
    "    NumPy is an open-source numerical Python library.\n",
    "    NumPy contains a multi-dimensional array and matrix data structures.\n",
    "    It can be utilised to perform a number of mathematical operations on arrays such as trigonometric,statistical, and algebraic routines. ...\n",
    "    NumPy is an extension of Numeric and Numarray."
   ]
  },
  {
   "cell_type": "code",
   "execution_count": 2,
   "metadata": {},
   "outputs": [],
   "source": [
    "# Turn a list to a NumPy array:\n",
    "\n",
    "numpy_array = np.array(list)"
   ]
  },
  {
   "cell_type": "code",
   "execution_count": null,
   "metadata": {},
   "outputs": [],
   "source": []
  },
  {
   "cell_type": "code",
   "execution_count": null,
   "metadata": {},
   "outputs": [],
   "source": []
  },
  {
   "cell_type": "markdown",
   "metadata": {},
   "source": [
    "***"
   ]
  },
  {
   "cell_type": "markdown",
   "metadata": {},
   "source": [
    "### 2a.  Simple Random Data Function\n",
    "<BR>"
   ]
  },
  {
   "cell_type": "markdown",
   "metadata": {},
   "source": [
    "Another cool feature is the ability to create different arrays like random arrays: np.random.rand(3,4) will create a 3x4 array of random numbers between 0 and 1 while np.random.rand(7,6)*100 will create a 7x6 array of random numbers between 0 to 100; you can also define the size of the array in a different way: np.random.randint(10,size=(3,2)) creates an array the size of 3x2 with random numbers between 0 and 9. Remember that the last digit (10) is not included in the range when you use this syntax.\n",
    "\n",
    "It’s also possible to create an array of all zeros: np.zeros(4,3) (4x3 array of all zeros) or ones np.ones((4)) (4x1 array of ones); you can the command np.full((3,2),8) to create a 3x2 array full of 8. You can, of course, change each and every one of these numbers to get the array you want."
   ]
  },
  {
   "cell_type": "markdown",
   "metadata": {},
   "source": [
    "#rand(d0, d1, …, dn)                       Random values in a given shape.\n",
    "#randn(d0, d1, …, dn) \t                   Return a sample (or samples) from the “standard normal” distribution.\n",
    "#randint(low[, high, size, dtype]) \t       Return random integers from low (inclusive) to high (exclusive).\n",
    "#random_integers(low[, high, size]) \t   Random integers of type np.int between low and high, inclusive.\n",
    "#random_sample([size]) \t                   Return random floats in the half-open interval [0.0, 1.0).\n",
    "#random([size]) \t                       Return random floats in the half-open interval [0.0, 1.0).\n",
    "#ranf([size]) \t                           Return random floats in the half-open interval [0.0, 1.0).\n",
    "#sample([size]) \t                       Return random floats in the half-open interval [0.0, 1.0).\n",
    "#choice(a[, size, replace, p]) \t           Generates a random sample from a given 1-D array\n",
    "#bytes(length) \t                           Return random bytes."
   ]
  },
  {
   "cell_type": "markdown",
   "metadata": {},
   "source": [
    "***"
   ]
  },
  {
   "cell_type": "markdown",
   "metadata": {},
   "source": [
    "### 2b.  Permutations Function\n",
    "<BR>"
   ]
  },
  {
   "cell_type": "markdown",
   "metadata": {},
   "source": [
    "##### shuffle(x) \t                 Modify a sequence in-place by shuffling its contents.\n",
    "##### permutation(x) \t             Randomly permute a sequence, or return a permuted range."
   ]
  },
  {
   "cell_type": "markdown",
   "metadata": {},
   "source": [
    "***"
   ]
  },
  {
   "cell_type": "markdown",
   "metadata": {},
   "source": [
    "### 3. Use and Purpose of 5 Distribution Functions\n",
    "<BR>"
   ]
  },
  {
   "cell_type": "markdown",
   "metadata": {},
   "source": [
    "### 3a. numpy.random.uniform ()"
   ]
  },
  {
   "cell_type": "markdown",
   "metadata": {},
   "source": [
    "\n",
    "### What is numpy.random.uniform?\n",
    "\n",
    "np.random.uniform () generates random floating number(s) i.e.decimal number(s) between a lower and upper value which can either be specified or set to a default to a value of (0,1).  \n",
    "\n",
    "The size of your output i.e. the number of random numbers returned can be set using np.random.uniform (low, high, size = ?). This is optional, the default is np.random.uniform (low, high, size = None).\n",
    "\n",
    "It is possible to round the result to the nearest integer using round(np.random.uniform) generates a random integer rather than a floating number\n",
    "\n",
    "np.random.uniform () uses uniform disribution which is a type of probability distribution in which all outcomes are equally likely to be chosen.\n",
    "\n",
    "### When can numpy.random.uniform​ be used?\n",
    "\n",
    "When you need random numbers between 0 and 1.  The output can be set to select between 0 and 1 (default) or between two specified lower and upper boundaries. The output can either be diplayed as a decimal or as a round number."
   ]
  },
  {
   "cell_type": "markdown",
   "metadata": {},
   "source": [
    "### Examples: "
   ]
  },
  {
   "cell_type": "code",
   "execution_count": 3,
   "metadata": {},
   "outputs": [
    {
     "data": {
      "text/plain": [
       "0.05688502176369781"
      ]
     },
     "execution_count": 3,
     "metadata": {},
     "output_type": "execute_result"
    }
   ],
   "source": [
    "# Uniformly generate a random number using the default values i.e. low = 0 and high = 1\n",
    "\n",
    "np.random.uniform ()"
   ]
  },
  {
   "cell_type": "code",
   "execution_count": 4,
   "metadata": {},
   "outputs": [
    {
     "data": {
      "text/plain": [
       "0.9793939191501244"
      ]
     },
     "execution_count": 4,
     "metadata": {},
     "output_type": "execute_result"
    }
   ],
   "source": [
    "# Uniformly generate a single random floating numbers between 0 and 1 (default values)\n",
    "\n",
    "np.random.uniform(0,1,size = None)"
   ]
  },
  {
   "cell_type": "code",
   "execution_count": 5,
   "metadata": {},
   "outputs": [
    {
     "data": {
      "text/plain": [
       "0.2560690149555558"
      ]
     },
     "execution_count": 5,
     "metadata": {},
     "output_type": "execute_result"
    }
   ],
   "source": [
    "# Uniformly generate a random number with decimals between 0 and 1\n",
    "\n",
    "np.random.uniform(0,1)"
   ]
  },
  {
   "cell_type": "code",
   "execution_count": 6,
   "metadata": {},
   "outputs": [
    {
     "data": {
      "text/plain": [
       "88"
      ]
     },
     "execution_count": 6,
     "metadata": {},
     "output_type": "execute_result"
    }
   ],
   "source": [
    "# Uniformly generate a random number between 0 and 100 and round to the nearest integer\n",
    "\n",
    "round(np.random.uniform(0,100)*1) "
   ]
  },
  {
   "cell_type": "code",
   "execution_count": 7,
   "metadata": {},
   "outputs": [
    {
     "data": {
      "text/plain": [
       "array([0.27588079, 0.21071038, 0.14338107, 0.94919661, 0.13029556,\n",
       "       0.46297523, 0.52384737, 0.18866621, 0.68122688, 0.60164859])"
      ]
     },
     "execution_count": 7,
     "metadata": {},
     "output_type": "execute_result"
    }
   ],
   "source": [
    "# Uniformly generate 10 random floating numbers between 0 and 1\n",
    "\n",
    "np.random.uniform (0,1,size = 10)"
   ]
  },
  {
   "cell_type": "markdown",
   "metadata": {},
   "source": [
    "### Plotting the Results"
   ]
  },
  {
   "cell_type": "code",
   "execution_count": 8,
   "metadata": {
    "scrolled": true
   },
   "outputs": [
    {
     "name": "stdout",
     "output_type": "stream",
     "text": [
      "\n",
      "50 Random Numbers:\n",
      "\n",
      "[7.5968833  4.70203764 9.58426889 1.56920167 5.6790241  5.2236348\n",
      " 2.09398879 2.6574132  4.72987204 4.64962899 4.16237107 3.40103045\n",
      " 5.44462843 5.32887931 7.20372175 5.69310984 5.77732827 9.62270809\n",
      " 3.82223714 4.14320508 4.95471323 9.57865973 7.80430516 2.79355174\n",
      " 6.90865452 9.34726383 2.86171363 6.16813121 3.77980315 3.95196149\n",
      " 1.21639384 9.72076438 9.503314   5.78494969 1.82398184 4.23443805\n",
      " 2.32398223 6.0087919  8.38279491 2.13135357 5.27597887 7.94407844\n",
      " 5.00072594 3.14991984 2.86022811 1.55436791 3.56493297 2.29737488\n",
      " 2.71820012 4.63013825]\n",
      "\n"
     ]
    }
   ],
   "source": [
    "u = np.random.uniform(1,10,size = 50)\n",
    "print (\"\")\n",
    "print (len(u),\"Random Numbers:\")\n",
    "print(\"\")\n",
    "print (u)\n",
    "print(\"\")"
   ]
  },
  {
   "cell_type": "code",
   "execution_count": 9,
   "metadata": {},
   "outputs": [
    {
     "name": "stdout",
     "output_type": "stream",
     "text": [
      "\n"
     ]
    },
    {
     "data": {
      "image/png": "[encoded data removed]",
      "text/plain": [
       "<Figure size 432x288 with 1 Axes>"
      ]
     },
     "metadata": {
      "needs_background": "light"
     },
     "output_type": "display_data"
    },
    {
     "data": {
      "image/png": "[encoded data removed]",
      "text/plain": [
       "<Figure size 432x288 with 1 Axes>"
      ]
     },
     "metadata": {
      "needs_background": "light"
     },
     "output_type": "display_data"
    }
   ],
   "source": [
    "print (\"\")\n",
    "plt.title(\"Sample Uniform Distribution Histogram\\n\")\n",
    "plt.hist (u , bins = 10)\n",
    "plt.show()\n",
    "plt.title(\"Sample Seaborn Uniform Distribution Plot\\n\")\n",
    "sns.distplot(u , bins = (10))\n",
    "plt.show()"
   ]
  },
  {
   "cell_type": "markdown",
   "metadata": {},
   "source": [
    "***"
   ]
  },
  {
   "cell_type": "markdown",
   "metadata": {},
   "source": [
    "### 3b. numpy.random.chisquare ()"
   ]
  },
  {
   "cell_type": "markdown",
   "metadata": {},
   "source": [
    "### What is numpy.random.chisquare?"
   ]
  },
  {
   "cell_type": "markdown",
   "metadata": {},
   "source": [
    "When df independent random variables, each with standard normal distributions (mean 0, variance 1), are squared and summed, the resulting distribution is chi-square (see Notes). This distribution is often used in hypothesis testing."
   ]
  },
  {
   "cell_type": "markdown",
   "metadata": {},
   "source": [
    "### When can numpy.random.chisquare be used?"
   ]
  },
  {
   "cell_type": "code",
   "execution_count": null,
   "metadata": {},
   "outputs": [],
   "source": []
  },
  {
   "cell_type": "markdown",
   "metadata": {},
   "source": [
    "### Examples:"
   ]
  },
  {
   "cell_type": "code",
   "execution_count": null,
   "metadata": {},
   "outputs": [],
   "source": []
  },
  {
   "cell_type": "markdown",
   "metadata": {},
   "source": [
    "### Plotting the Results:"
   ]
  },
  {
   "cell_type": "code",
   "execution_count": null,
   "metadata": {},
   "outputs": [],
   "source": []
  },
  {
   "cell_type": "markdown",
   "metadata": {},
   "source": [
    "### 3c. numpy.random.binomial ()"
   ]
  },
  {
   "cell_type": "markdown",
   "metadata": {},
   "source": [
    "### What is numpy.random.binomial?"
   ]
  },
  {
   "cell_type": "markdown",
   "metadata": {},
   "source": [
    "Binomial distribution is used to understand the probability of a particular outcome (success or failure) in trials which are repeated multiple times. The trials are independent as the outcome or the previous trial had no effect on the next trial.\n",
    "\n",
    "For a total of 'n' independent trials are conducted and we want to find out the probability of 'r' successes, where each success has probability 'p' of occurring. "
   ]
  },
  {
   "cell_type": "markdown",
   "metadata": {},
   "source": [
    "### When can numpy.random.binomial be used?"
   ]
  },
  {
   "cell_type": "markdown",
   "metadata": {},
   "source": [
    "Np.random.binomial is used when a total of 'n' independent trials are conducted and we want to find out the probability of 'r' successes, where each success has probability 'p' of occurring. \n",
    "\n",
    "The following conditions need to me met:\n",
    "\n",
    "    1. Fixed number of trials (n) - clearly defined number of trials that do not vary.\n",
    "    2. Independent trials - Each trial should have absolutely no effect on any of the others.\n",
    "    3. Two different classifications - Each of the trials is grouped into two classifications: successes and\n",
    "       failures.\n",
    "    4. The probability of success (p)stays the same for all trials - The probabilities of successful trials \n",
    "       must remain the same throughout the process \n"
   ]
  },
  {
   "cell_type": "markdown",
   "metadata": {},
   "source": [
    "### Examples:"
   ]
  },
  {
   "cell_type": "code",
   "execution_count": 10,
   "metadata": {},
   "outputs": [
    {
     "name": "stdout",
     "output_type": "stream",
     "text": [
      "\n",
      "100 Results:\n",
      "\n",
      "[0.7 0.5 0.5 0.5 0.2 0.4 0.7 0.6 0.6 0.6 0.5 0.7 0.5 0.6 0.3 0.8 0.3 0.5\n",
      " 0.7 0.3 0.6 0.4 0.4 0.3 0.6 0.7 0.7 0.5 0.6 0.5 0.4 0.4 0.2 0.5 0.5 0.5\n",
      " 0.4 0.6 0.4 0.4 0.4 0.3 0.5 0.5 0.3 0.5 0.7 0.4 0.5 0.4 0.2 0.4 0.3 0.7\n",
      " 0.5 0.4 0.3 0.6 0.2 0.3 0.8 0.5 0.5 0.7 0.4 0.2 0.4 0.6 0.5 0.4 0.6 0.4\n",
      " 0.3 0.4 0.6 0.7 0.5 0.7 0.6 0.5 0.2 0.6 0.4 0.7 0.7 0.6 0.6 0.6 0.4 0.4\n",
      " 0.4 0.8 0.6 0.7 0.5 0.4 0.5 0.7 0.5 0.7]\n",
      "\n",
      "The probability that that the result is heads is 37 %\n",
      "The probability that that the result is tails is 39 %\n",
      "\n"
     ]
    }
   ],
   "source": [
    "#Generate a random number between 0 and 1. If that number is 0.5 or more, then count it as heads, otherwise tails. ...\n",
    "#Repeat this a specified number of times (the amount of trials is specified by the input variable trials). We will perform 1,000 trials.\n",
    "\n",
    "#Eg a coin toss has only two possible outcomes: heads or tails so each coin toss has a 50% \n",
    "#probability (p) of being head or tails. This test can be performed multiple (n) times \n",
    "\n",
    "n = 10   # Number of coin tosses\n",
    "p = 0.5  # Probability of each trial\n",
    "s = 100  # Number of times the experiment is repeated\n",
    "\n",
    "print (\"\")\n",
    "print (s,\"Results:\")\n",
    "print (\"\")\n",
    "b = np.random.binomial(n, p, s) \n",
    "#50 trials, probability = 0.5, tested 100 times\n",
    "\n",
    "print (b/n)\n",
    "print (\"\")\n",
    "print (\"The probability that that the result is heads is\",sum(b/n > (p)),\"%\")\n",
    "print (\"The probability that that the result is tails is\",sum(b/n < (p)),\"%\")\n",
    "print(\"\")"
   ]
  },
  {
   "cell_type": "code",
   "execution_count": 11,
   "metadata": {},
   "outputs": [
    {
     "name": "stdout",
     "output_type": "stream",
     "text": [
      "\n",
      "200 Results:\n",
      "\n",
      "[1 0 2 0 3 0 0 1 1 1 1 1 1 2 1 0 0 0 1 1 1 1 1 0 1 2 2 1 3 0 0 0 0 0 1 1 0\n",
      " 1 0 0 1 0 0 1 0 0 2 2 0 0 2 2 0 1 1 0 1 1 1 2 2 0 1 1 2 0 3 0 0 0 1 1 1 0\n",
      " 0 1 2 1 1 1 1 1 0 0 2 1 0 0 0 1 0 1 1 2 0 2 1 0 2 1 2 1 0 2 1 0 3 0 1 0 0\n",
      " 1 4 0 0 1 1 0 1 1 1 0 1 0 0 0 1 1 3 1 2 0 2 1 1 1 1 2 2 1 0 1 2 0 4 0 0 2\n",
      " 0 1 3 0 0 0 2 1 1 0 0 1 0 2 0 1 0 2 0 0 0 2 2 0 0 1 3 0 0 1 1 0 1 0 0 3 1\n",
      " 0 1 0 1 1 0 0 2 0 1 1 1 1 1 1]\n",
      "\n",
      "Probability of success 61.5 %\n",
      "Probability of failure 39.0 %\n",
      "\n"
     ]
    }
   ],
   "source": [
    "#Calculate the probability of success\n",
    "\n",
    "n = 9\n",
    "p = 0.1\n",
    "s = 200\n",
    "print (\"\")\n",
    "print (s,\"Results:\")\n",
    "print (\"\")\n",
    "print (np.random.binomial(n,p,s))\n",
    "print(\"\")\n",
    "print(\"Probability of success\",(sum(np.random.binomial(n,p,s) != 0)/s*100),\"%\")\n",
    "print(\"Probability of failure\",(sum(np.random.binomial(n,p,s) == 0)/s*100),\"%\")\n",
    "print(\"\")"
   ]
  },
  {
   "cell_type": "markdown",
   "metadata": {},
   "source": [
    "### Plotting the Results:"
   ]
  },
  {
   "cell_type": "code",
   "execution_count": 12,
   "metadata": {},
   "outputs": [
    {
     "data": {
      "image/png": "[encoded data removed]",
      "text/plain": [
       "<Figure size 432x288 with 1 Axes>"
      ]
     },
     "metadata": {
      "needs_background": "light"
     },
     "output_type": "display_data"
    }
   ],
   "source": [
    "# number of trials = 10, probability of each trial = 0.5, no.of times tested = 100\n",
    "\n",
    "n, p,s = 10,0.5,100 # number of trials, probability of each\n",
    "plot = np.random.binomial(n, p, s)\n",
    "sns.distplot(plot)\n",
    "\n",
    "plt.title('Binomial Distribution')\n",
    "plt.show()\n",
    "\n"
   ]
  },
  {
   "cell_type": "markdown",
   "metadata": {},
   "source": [
    "### 3d. numpy.random.normal ()"
   ]
  },
  {
   "cell_type": "markdown",
   "metadata": {},
   "source": [
    "### What is numpy.random.normal?"
   ]
  },
  {
   "cell_type": "markdown",
   "metadata": {},
   "source": [
    "The np. random. normal (loc,scale,size) function returns a list of random samples drawn in a bell shaped curve range centred around (normal distribution). The distribution is dependent on the values of the keyword arguments loc , scale , and size \n",
    "\n",
    "In a normal distribution:\n",
    "\n",
    "    the mean = median = mode\n",
    "    symmetry about the centre\n",
    "    50% right and 50% left of the mean\n"
   ]
  },
  {
   "cell_type": "markdown",
   "metadata": {},
   "source": [
    "### When can numpy.random.normal be used?"
   ]
  },
  {
   "cell_type": "markdown",
   "metadata": {},
   "source": [
    "You can use it to determine the proportion of the values that fall within a specified number of standard deviations from the mean. For example, in a normal distribution, 68% of the observations fall within +/- 1 standard deviation from the mean.\n"
   ]
  },
  {
   "cell_type": "markdown",
   "metadata": {},
   "source": [
    "### Examples:"
   ]
  },
  {
   "cell_type": "code",
   "execution_count": 13,
   "metadata": {
    "scrolled": true
   },
   "outputs": [],
   "source": [
    "x = np.random.normal (300.0 , 100.0 , 500)\n",
    "# range of numbers ( loc , scale, size )"
   ]
  },
  {
   "cell_type": "markdown",
   "metadata": {},
   "source": [
    "### Plotting the Results"
   ]
  },
  {
   "cell_type": "code",
   "execution_count": 14,
   "metadata": {},
   "outputs": [
    {
     "data": {
      "image/png": "[encoded data removed]",
      "text/plain": [
       "<Figure size 432x288 with 1 Axes>"
      ]
     },
     "metadata": {
      "needs_background": "light"
     },
     "output_type": "display_data"
    }
   ],
   "source": [
    "plt.hist (x, 20)\n",
    "# histogram broken into 20 bins\n",
    "plt.show ()"
   ]
  },
  {
   "cell_type": "markdown",
   "metadata": {},
   "source": [
    "### 3e.  numpy.random.triangular ()"
   ]
  },
  {
   "cell_type": "markdown",
   "metadata": {},
   "source": [
    "### What is numpy.random.triangular ?"
   ]
  },
  {
   "cell_type": "markdown",
   "metadata": {},
   "source": [
    "####  numpy.random.triangular(low,  mode, high, size=None)\n",
    "\n",
    "A triangular distribution is a continuous probability distribution with a probability density function shaped like a triangle.It is definedby three values: the minimum value (low), the maximum value (high),and the peak value (mode). \n",
    "The numpy.random.triangular() method returns a random floating number between the two specified numbers (low, high).  \n",
    "\n",
    "A third 'mode' parameter can be set which gives the opportunity to weigh the possible outcome closer to one of the low/high parameter values.  The mode parameter defaults to the midpoint between the two other parameter values if only two parameters are specified, which will not weigh the possible outcome in any direction.\n",
    "\n"
   ]
  },
  {
   "cell_type": "markdown",
   "metadata": {},
   "source": [
    "#### Parameter Description:\n",
    "\n",
    "low =\tA number specifying the lowest possible outcome.     Default 0\n",
    "\n",
    "high = \tA number specifying the highest possible outcome.    Default 1\n",
    "\n",
    "mode =\tA number used to weigh the result in any direction.  Default the midpoint between the low and high values"
   ]
  },
  {
   "cell_type": "markdown",
   "metadata": {},
   "source": [
    "### When can numpy.random.triangular be used?"
   ]
  },
  {
   "cell_type": "markdown",
   "metadata": {},
   "source": [
    "Numpy.random.triangular can be used to estimate the maximum and minimum values, and the most likely outcome, even if we don't know the mean and standard deviation"
   ]
  },
  {
   "cell_type": "markdown",
   "metadata": {},
   "source": [
    "### Plotting the Results:"
   ]
  },
  {
   "cell_type": "markdown",
   "metadata": {},
   "source": [
    "##### Example 1: \n",
    "Generate 10,000 random numbers between 0 and 8 weighted around the value 2.   Display the results in 10 bars in the histogram\n",
    "<BR>\n",
    "<BR>"
   ]
  },
  {
   "cell_type": "code",
   "execution_count": 93,
   "metadata": {},
   "outputs": [
    {
     "data": {
      "image/png": "[encoded data removed]",
      "text/plain": [
       "<Figure size 432x288 with 1 Axes>"
      ]
     },
     "metadata": {
      "needs_background": "light"
     },
     "output_type": "display_data"
    }
   ],
   "source": [
    "plot1 = plt.hist(np.random.triangular(0, 2, 8, 10000), bins=10,density=True)\n"
   ]
  },
  {
   "cell_type": "markdown",
   "metadata": {},
   "source": [
    "##### Example 2:\n",
    "A burger franchise planning a new outlet uses a triangular distribution to model the future weekly sales. They estimate that the minimum weekly sales will be €1000 and the maximum is €6000.  They also estimate that the most likely outcome is around €3000.  \n",
    "The graph of this probability density function is shown below.\n",
    "<BR>"
   ]
  },
  {
   "cell_type": "code",
   "execution_count": 94,
   "metadata": {},
   "outputs": [
    {
     "data": {
      "image/png": "[encoded data removed]",
      "text/plain": [
       "<Figure size 432x288 with 1 Axes>"
      ]
     },
     "metadata": {
      "needs_background": "light"
     },
     "output_type": "display_data"
    }
   ],
   "source": [
    "plot2 = plt.hist(np.random.triangular(1000 , 3000 , 6000, 10000), bins=20,density=True)"
   ]
  },
  {
   "cell_type": "markdown",
   "metadata": {},
   "source": [
    "##### Example 3:"
   ]
  },
  {
   "cell_type": "markdown",
   "metadata": {},
   "source": [
    "Generate 10,000 random numbers between -3 and 8 weighted around the value 0. Display the results in 20 bars in the histogram "
   ]
  },
  {
   "cell_type": "code",
   "execution_count": 90,
   "metadata": {
    "scrolled": true
   },
   "outputs": [
    {
     "data": {
      "image/png": "[encoded data removed]",
      "text/plain": [
       "<Figure size 432x288 with 1 Axes>"
      ]
     },
     "metadata": {
      "needs_background": "light"
     },
     "output_type": "display_data"
    }
   ],
   "source": [
    "plot3 = plt.hist(np.random.triangular(-3, 0, 8, 100000), bins=20,density=True)"
   ]
  },
  {
   "cell_type": "markdown",
   "metadata": {},
   "source": [
    "***"
   ]
  },
  {
   "cell_type": "markdown",
   "metadata": {},
   "source": [
    "### 4. Use of Seeds in generating pseudorandom numbers\n",
    "<BR>"
   ]
  },
  {
   "cell_type": "code",
   "execution_count": null,
   "metadata": {},
   "outputs": [],
   "source": []
  },
  {
   "cell_type": "markdown",
   "metadata": {},
   "source": [
    "***"
   ]
  },
  {
   "cell_type": "markdown",
   "metadata": {},
   "source": [
    "### References\n",
    "<BR>"
   ]
  },
  {
   "cell_type": "markdown",
   "metadata": {},
   "source": [
    "#### https://towardsdatascience.com/a-quick-introduction-to-the-numpy-library-6f61b7dee4db\n",
    "#### https://yhpf.medium.com/numpy-random-uniform-9a51183ce8c1\n",
    "#### https://www.statisticshowto.com/probability-and-statistics/binomial-theorem/binomial-distribution-formula/\n",
    "#### https://www.thoughtco.com/when-to-use-binomial-distribution-3126596\n",
    "#### https://towardsdatascience.com/fun-with-the-binomial-distribution-96a5ecabf65b\n",
    "#### https://www.khanacademy.org/computing/computer-programming/programming-natural-simulations/programming-randomness/a/normal-distribution-of-random-numbers\n",
    "#### https://www.statisticshowto.com/probability-and-statistics/binomial-theorem/binomial-distribution-formula/\n",
    "#### https://www.geeksforgeeks.org/numpy-random-exponential-in-python/\n",
    "#### http://omz-software.com/pythonista/numpy/reference/generated/numpy.random.exponential.html#r189\n",
    "#### https://stackoverflow.com/questions/15091982/manipulating-the-numpy-random-exponential-distribution-in-python\n",
    "#### https://www.w3schools.com/python/ref_random_triangular.asp\n",
    "#### https://learnandteachstatistics.files.wordpress.com/2013/07/notes-on-triangle-distributions.pdf\n",
    "#### "
   ]
  },
  {
   "cell_type": "markdown",
   "metadata": {},
   "source": [
    "### End"
   ]
  }
 ],
 "metadata": {
  "kernelspec": {
   "display_name": "Python 3",
   "language": "python",
   "name": "python3"
  },
  "language_info": {
   "codemirror_mode": {
    "name": "ipython",
    "version": 3
   },
   "file_extension": ".py",
   "mimetype": "text/x-python",
   "name": "python",
   "nbconvert_exporter": "python",
   "pygments_lexer": "ipython3",
   "version": "3.8.3"
  }
 },
 "nbformat": 4,
 "nbformat_minor": 4
}
